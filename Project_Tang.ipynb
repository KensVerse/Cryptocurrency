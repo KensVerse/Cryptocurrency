{
 "cells": [
  {
   "cell_type": "code",
   "execution_count": 1,
   "metadata": {},
   "outputs": [
    {
     "name": "stderr",
     "output_type": "stream",
     "text": [
      "Using TensorFlow backend.\n"
     ]
    }
   ],
   "source": [
    "import numpy as np\n",
    "\n",
    "from keras.datasets import imdb\n",
    "from keras.layers import Dense\n",
    "from keras.layers import Conv1D, MaxPooling1D, Flatten\n",
    "from keras.layers import LSTM, Activation, Dropout\n",
    "from keras.layers import GRU\n",
    "from keras.layers.embeddings import Embedding\n",
    "from keras.models import Sequential\n",
    "from keras.preprocessing import sequence\n",
    "\n",
    "import pandas as pd\n",
    "from pandas import ExcelWriter\n",
    "from pandas import ExcelFile\n",
    "\n",
    "from statsmodels.tsa.stattools import adfuller\n",
    "\n",
    "import matplotlib.pyplot as plt\n",
    "from statsmodels.tsa.arima_model import ARIMA\n",
    "import seaborn as sns"
   ]
  },
  {
   "cell_type": "markdown",
   "metadata": {},
   "source": [
    "### Part 1 Processing Data: eliminate non-stationarity"
   ]
  },
  {
   "cell_type": "code",
   "execution_count": 2,
   "metadata": {},
   "outputs": [],
   "source": [
    "btcprice = pd.read_csv('btcprice.csv')\n",
    "ltcprice=pd.read_csv(\"ltcprice.csv\")\n",
    "bondprice=pd.read_csv(\"bondindex.csv\")#S&P bond index\n",
    "n_transaction=pd.read_csv(\"n_transaction.csv\")#number of transactions per day BTC\n",
    "btcpricevol=pd.read_csv(\"pricevol.csv\")#BTC price volatility\n",
    "transaction_amount=pd.read_csv(\"transactionamount.csv\")#Transaction amount per trade BTC\n",
    "transaction_feevalue=pd.read_csv(\"transactionfeesvalue.csv\")#Transaction fees received BTC\n",
    "velocity=pd.read_csv(\"velocitydaily.csv\")#Velocity of BTC\n",
    "minerrevenue=pd.read_csv(\"minerrevenuevalue.csv\")#miner revenue BTC\n",
    "btcoutput=pd.read_csv(\"btcoutput.csv\")# BTC output\n",
    "reit=pd.read_csv(\"reit.csv\")# Real estate Index\n",
    "vix=pd.read_csv(\"VIX.csv\")#volatility index\n",
    "ltcvolume=pd.read_csv(\"ltcvolume.csv\")#LTC trading volume\n",
    "sp500=pd.read_csv(\"SP500.csv\")#S&P 500 stock index\n",
    "oil=pd.read_csv(\"oilprice.csv\")#oil price index\n",
    "goldprice=pd.read_csv(\"goldprice.csv\")#gold price index"
   ]
  },
  {
   "cell_type": "code",
   "execution_count": 3,
   "metadata": {},
   "outputs": [],
   "source": [
    "btcprice[\"Date\"]=pd.to_datetime(btcprice[\"Date\"])\n",
    "ltcprice[\"Date\"]=pd.to_datetime(ltcprice[\"Date\"])\n",
    "bondprice[\"Date\"]=pd.to_datetime(bondprice[\"Date\"])\n",
    "n_transaction[\"Date\"]=pd.to_datetime(n_transaction[\"Date\"])\n",
    "btcpricevol[\"Date\"]=pd.to_datetime(btcpricevol[\"Date\"])\n",
    "transaction_amount[\"Date\"]=pd.to_datetime(transaction_amount[\"Date\"])\n",
    "transaction_feevalue[\"Date\"]=pd.to_datetime(transaction_feevalue[\"Date\"])\n",
    "velocity[\"Date\"]=pd.to_datetime(velocity[\"Date\"])\n",
    "minerrevenue[\"Date\"]=pd.to_datetime(minerrevenue[\"Date\"])\n",
    "btcoutput[\"Date\"]=pd.to_datetime(btcoutput[\"Date\"])\n",
    "reit[\"Date\"]=pd.to_datetime(reit[\"Date\"])\n",
    "vix[\"Date\"]=pd.to_datetime(vix[\"Date\"])\n",
    "ltcvolume[\"Date\"]=pd.to_datetime(ltcvolume[\"Date\"])\n",
    "sp500[\"Date\"]=pd.to_datetime(sp500[\"Date\"])\n",
    "oil[\"Date\"]=pd.to_datetime(oil[\"Date\"])\n",
    "goldprice[\"Date\"]=pd.to_datetime(goldprice[\"Date\"])"
   ]
  },
  {
   "cell_type": "markdown",
   "metadata": {},
   "source": [
    "##### Interpolation of missing data"
   ]
  },
  {
   "cell_type": "code",
   "execution_count": 4,
   "metadata": {},
   "outputs": [],
   "source": [
    "merged=pd.merge(btcprice, ltcprice, on='Date', how='left')\n",
    "merged.columns=['Date', 'btcprice', 'ltcprice']\n",
    "merged=merged.fillna(0)\n",
    "merged=pd.merge(merged, bondprice, on='Date', how='left')\n",
    "bondindex=merged[\"bondindex\"].interpolate()\n",
    "bondindex[0:3]=347.72\n",
    "merged[\"bondindex\"]=bondindex\n",
    "merged=pd.merge(merged, n_transaction, on='Date', how='left')\n",
    "merged=pd.merge(merged, btcpricevol, on='Date', how='left')\n",
    "merged=merged.fillna(0)\n",
    "merged=pd.merge(merged, transaction_amount, on=\"Date\",how=\"left\")\n",
    "merged=pd.merge(merged, transaction_feevalue, on=\"Date\",how=\"left\")\n",
    "merged=pd.merge(merged, velocity, on=\"Date\",how=\"left\")\n",
    "merged=pd.merge(merged, minerrevenue, on=\"Date\",how=\"left\")\n",
    "merged=pd.merge(merged, btcoutput, on=\"Date\",how=\"left\")\n",
    "merged=pd.merge(merged, reit, on=\"Date\",how=\"left\")\n",
    "reitcolumn=merged[\"REIT\"].interpolate()\n",
    "reitcolumn[0:3]=114.98\n",
    "merged[\"REIT\"]=reitcolumn\n",
    "merged=pd.merge(merged, vix, on=\"Date\",how=\"left\")\n",
    "VIXcolumn=merged[\"VIX\"].interpolate()\n",
    "VIXcolumn[0:3]=20.04\n",
    "merged[\"VIX\"]=VIXcolumn\n",
    "merged=pd.merge(merged, ltcvolume, on=\"Date\",how=\"left\")\n",
    "merged=merged.fillna(0)\n",
    "merged=pd.merge(merged, sp500, on=\"Date\",how=\"left\")\n",
    "sp500p=merged[\"SP500price\"].interpolate()\n",
    "sp500p[0:3]=1132.98999\n",
    "merged[\"SP500price\"]=sp500p\n",
    "sp500v=merged[\"SP500volume\"].interpolate()\n",
    "sp500v[0:3]=3991400000\n",
    "merged[\"SP500volume\"]=sp500v\n",
    "\n",
    "merged=pd.merge(merged, oil, on=\"Date\",how=\"left\")\n",
    "oilcolumn=merged[\"oil\"].interpolate()\n",
    "oilcolumn[0:3]=81.51\n",
    "merged[\"oil\"]=oilcolumn\n",
    "\n",
    "merged=pd.merge(merged, goldprice, on=\"Date\",how=\"left\")\n",
    "goldcolumn=merged[\"goldprice\"].interpolate()\n",
    "goldcolumn[0:3]=1117.7\n",
    "merged[\"goldprice\"]=goldcolumn\n",
    "\n",
    "goldcolumn=merged[\"goldvolume\"].interpolate()\n",
    "goldcolumn[0:3]=0.18\n",
    "merged[\"goldvolume\"]=goldcolumn"
   ]
  },
  {
   "cell_type": "markdown",
   "metadata": {},
   "source": [
    "##### Eliminate Non-stationarity"
   ]
  },
  {
   "cell_type": "code",
   "execution_count": 5,
   "metadata": {},
   "outputs": [
    {
     "name": "stdout",
     "output_type": "stream",
     "text": [
      "0.5983344997611726\n",
      "3.7284878983749615e-20\n"
     ]
    }
   ],
   "source": [
    "res=adfuller(merged[\"btcprice\"])\n",
    "print(res[1])\n",
    "btcprice=merged[\"btcprice\"]\n",
    "btcpricereturn=np.diff(btcprice)\n",
    "res=adfuller(btcpricereturn)\n",
    "print(res[1])\n",
    "merged[\"btcprice return\"]=np.append(0,btcpricereturn)"
   ]
  },
  {
   "cell_type": "code",
   "execution_count": 6,
   "metadata": {},
   "outputs": [
    {
     "data": {
      "text/plain": [
       "182.91055228954195"
      ]
     },
     "execution_count": 6,
     "metadata": {},
     "output_type": "execute_result"
    }
   ],
   "source": [
    "np.std(btcpricereturn)"
   ]
  },
  {
   "cell_type": "code",
   "execution_count": 7,
   "metadata": {},
   "outputs": [
    {
     "name": "stdout",
     "output_type": "stream",
     "text": [
      "0.12948703331350558\n",
      "1.0423338689839313e-24\n"
     ]
    }
   ],
   "source": [
    "ltcprice=merged[\"ltcprice\"]\n",
    "ltcpricereturn=np.diff(ltcprice)\n",
    "res=adfuller(ltcprice)\n",
    "print(res[1])\n",
    "res=adfuller(ltcpricereturn)\n",
    "print(res[1])\n",
    "merged[\"ltcprice return\"]=np.append(0,ltcpricereturn)"
   ]
  },
  {
   "cell_type": "code",
   "execution_count": 8,
   "metadata": {},
   "outputs": [
    {
     "name": "stdout",
     "output_type": "stream",
     "text": [
      "0.839601225899153\n",
      "0.0\n"
     ]
    }
   ],
   "source": [
    "res=adfuller(merged[\"bondindex\"])\n",
    "print(res[1])\n",
    "bondindex=merged[\"bondindex\"]\n",
    "bondindexreturn=np.diff(bondindex)\n",
    "res=adfuller(bondindexreturn)\n",
    "print(res[1])\n",
    "merged[\"bond return\"]=np.append(0,bondindexreturn)"
   ]
  },
  {
   "cell_type": "code",
   "execution_count": 9,
   "metadata": {},
   "outputs": [
    {
     "name": "stdout",
     "output_type": "stream",
     "text": [
      "0.8572130750433979\n",
      "3.388537773811732e-24\n"
     ]
    }
   ],
   "source": [
    "res=adfuller(merged[\"Daily Transactions\"])\n",
    "print(res[1])\n",
    "transactions=merged[\"Daily Transactions\"]\n",
    "diff_transactions=np.diff(transactions)\n",
    "res=adfuller(diff_transactions)\n",
    "print(res[1])\n",
    "merged[\"transactions change\"]=np.append(0,diff_transactions)"
   ]
  },
  {
   "cell_type": "code",
   "execution_count": 10,
   "metadata": {},
   "outputs": [
    {
     "name": "stdout",
     "output_type": "stream",
     "text": [
      "0.00030133014590080765\n",
      "5.271887999403351e-11\n",
      "5.434933901155005e-09\n",
      "5.567147338390935e-11\n",
      "0.12187296367108574\n",
      "3.3192905081796003e-19\n",
      "0.856692861496287\n",
      "1.1433427300465514e-19\n",
      "0.30786165795632137\n",
      "0.0\n",
      "7.0895202903251e-05\n",
      "1.2390724071748057e-06\n",
      "0.9397012439975668\n",
      "2.0742783085226875e-30\n",
      "3.7073542252455677e-06\n",
      "0.6339175350576203\n",
      "0.0\n",
      "0.20617741238878767\n",
      "7.15166249506842e-26\n",
      "0.8532193105055546\n"
     ]
    }
   ],
   "source": [
    "res=adfuller(merged[\"btcpricevola\"])\n",
    "print(res[1])\n",
    "\n",
    "res=adfuller(merged[\"Transaction Amount\"])\n",
    "print(res[1])\n",
    "\n",
    "res=adfuller(merged[\"Fees Value\"])\n",
    "print(res[1])\n",
    "\n",
    "res=adfuller(merged[\"Velocity\"])\n",
    "print(res[1])\n",
    "\n",
    "res=adfuller(merged[\"Miner Revenue Value\"])\n",
    "print(res[1])\n",
    "diff_minerrev=np.diff(merged[\"Miner Revenue Value\"])\n",
    "res=adfuller(diff_minerrev)\n",
    "print(res[1])\n",
    "merged[\"minerrevenue change\"]=np.append(0,diff_minerrev)\n",
    "\n",
    "res=adfuller(merged[\"Output Value\"])\n",
    "print(res[1])\n",
    "diff_output=np.diff(merged[\"Output Value\"])\n",
    "res=adfuller(diff_output)\n",
    "print(res[1])\n",
    "merged[\"output change\"]=np.append(0,diff_output)\n",
    "\n",
    "res=adfuller(merged[\"REIT\"])\n",
    "print(res[1])\n",
    "diff_reit=np.diff(merged[\"REIT\"])\n",
    "res=adfuller(diff_reit)\n",
    "print(res[1])\n",
    "merged[\"REIT return\"]=np.append(0,diff_reit)\n",
    "\n",
    "res=adfuller(merged[\"VIX\"])\n",
    "print(res[1])\n",
    "\n",
    "res=adfuller(merged[\"ltcvolume\"])\n",
    "print(res[1])\n",
    "\n",
    "res=adfuller(merged[\"SP500price\"])\n",
    "print(res[1])\n",
    "diff_SPprice=np.diff(merged[\"SP500price\"])\n",
    "res=adfuller(diff_SPprice)\n",
    "print(res[1])\n",
    "merged[\"SPprice return\"]=np.append(0,diff_SPprice)\n",
    "\n",
    "res=adfuller(merged[\"SP500volume\"])\n",
    "print(res[1])\n",
    "\n",
    "res=adfuller(merged[\"oil\"])\n",
    "print(res[1])\n",
    "diff_oil=np.diff(merged[\"oil\"])\n",
    "res=adfuller(diff_oil)\n",
    "print(res[1])\n",
    "merged[\"oil return\"]=np.append(0,diff_oil)\n",
    "\n",
    "res=adfuller(merged[\"goldprice\"])\n",
    "print(res[1])\n",
    "diff_goldp=np.diff(merged[\"goldprice\"])\n",
    "res=adfuller(diff_goldp)\n",
    "print(res[1])\n",
    "merged[\"gold return\"]=np.append(0,diff_goldp)\n",
    "\n",
    "res=adfuller(merged[\"goldvolume\"])\n",
    "print(res[1])"
   ]
  },
  {
   "cell_type": "markdown",
   "metadata": {},
   "source": [
    "Table of stationary data"
   ]
  },
  {
   "cell_type": "code",
   "execution_count": 11,
   "metadata": {
    "scrolled": true
   },
   "outputs": [
    {
     "data": {
      "text/plain": [
       "Date                   0\n",
       "btcprice return        0\n",
       "ltcprice return        0\n",
       "bond return            0\n",
       "transactions change    0\n",
       "btcpricevola           0\n",
       "Transaction Amount     0\n",
       "Fees Value             0\n",
       "Velocity               0\n",
       "minerrevenue change    0\n",
       "output change          0\n",
       "REIT return            0\n",
       "VIX                    0\n",
       "ltcvolume              0\n",
       "SPprice return         0\n",
       "SP500volume            0\n",
       "oil return             0\n",
       "gold return            0\n",
       "goldvolume             0\n",
       "dtype: int64"
      ]
     },
     "execution_count": 11,
     "metadata": {},
     "output_type": "execute_result"
    }
   ],
   "source": [
    "data=merged[[\"Date\",\"btcprice return\",\"ltcprice return\",\"bond return\",\"transactions change\",\"btcpricevola\",\n",
    "     'Transaction Amount', 'Fees Value', 'Velocity','minerrevenue change','output change','REIT return',\n",
    "     'VIX', 'ltcvolume','SPprice return','SP500volume','oil return','gold return','goldvolume']]\n",
    "np.sum(data.isna())"
   ]
  },
  {
   "cell_type": "code",
   "execution_count": 12,
   "metadata": {},
   "outputs": [
    {
     "data": {
      "text/plain": [
       "[<matplotlib.lines.Line2D at 0x1d66c917a90>]"
      ]
     },
     "execution_count": 12,
     "metadata": {},
     "output_type": "execute_result"
    },
    {
     "data": {
      "image/png": "[encoded data removed]",
      "text/plain": [
       "<Figure size 1296x720 with 1 Axes>"
      ]
     },
     "metadata": {
      "needs_background": "light"
     },
     "output_type": "display_data"
    }
   ],
   "source": [
    "data.to_csv(\"prepared_data.csv\",index=False)\n",
    "plt.figure(figsize=(18,10))\n",
    "plt.plot(merged[\"btcprice\"])"
   ]
  },
  {
   "cell_type": "code",
   "execution_count": 13,
   "metadata": {},
   "outputs": [],
   "source": [
    "datacol=data.columns[1:len(data.columns)]\n",
    "fulldata=data.copy()"
   ]
  },
  {
   "cell_type": "code",
   "execution_count": 14,
   "metadata": {
    "scrolled": true
   },
   "outputs": [],
   "source": [
    "data_onlytrain=data[0:3103]"
   ]
  },
  {
   "cell_type": "markdown",
   "metadata": {},
   "source": [
    "##### Normalization only using training data's mean and standard deviation, as future data is unobservable"
   ]
  },
  {
   "cell_type": "code",
   "execution_count": 15,
   "metadata": {},
   "outputs": [
    {
     "data": {
      "image/png": "[encoded data removed]",
      "text/plain": [
       "<Figure size 1296x720 with 1 Axes>"
      ]
     },
     "metadata": {
      "needs_background": "light"
     },
     "output_type": "display_data"
    }
   ],
   "source": [
    "plt.figure(figsize=(18,10))\n",
    "for i in datacol:\n",
    "    fulldata[i]=(data[i]-np.mean(data_onlytrain[i]))/np.std(data_onlytrain[i])\n",
    "    plotvalue=(data[i]-np.mean(data[i]))/np.std(data[i])\n",
    "    plt.plot(plotvalue,label=i)\n",
    "    plt.legend(loc='upper left')"
   ]
  },
  {
   "cell_type": "markdown",
   "metadata": {},
   "source": [
    "##### Correlation Matrix"
   ]
  },
  {
   "cell_type": "code",
   "execution_count": 16,
   "metadata": {
    "scrolled": false
   },
   "outputs": [
    {
     "data": {
      "image/png": "[encoded data removed]",
      "text/plain": [
       "<Figure size 864x720 with 2 Axes>"
      ]
     },
     "metadata": {
      "needs_background": "light"
     },
     "output_type": "display_data"
    }
   ],
   "source": [
    "datamat=np.array(fulldata[datacol]).T\n",
    "datacorr=np.corrcoef(datamat)\n",
    "plt.figure(figsize=(12,10))\n",
    "ax = sns.heatmap(datacorr, linewidth=1)\n",
    "plt.show()"
   ]
  },
  {
   "cell_type": "markdown",
   "metadata": {},
   "source": [
    "##### Correlation"
   ]
  },
  {
   "cell_type": "markdown",
   "metadata": {},
   "source": [
    "Bitcoin price return is positively significant correlated with Litecoin price return, miner revenue change and output change. Average transaction amount per trade is positively correlated with BTC price volatility and velocity. Mining fees value is highly correlated with the LTC trading volume, which does not seem to offer a sensible connection. REIT return is highly correlated with S&P 500 return, VIX is highly correlated with S&P 500 trading volume. Oil price return is highly correlated with S&P500 price return."
   ]
  },
  {
   "cell_type": "markdown",
   "metadata": {},
   "source": [
    "### Part 2 Split Train, Validate and Test"
   ]
  },
  {
   "cell_type": "code",
   "execution_count": 23,
   "metadata": {
    "scrolled": false
   },
   "outputs": [],
   "source": [
    "traindata=fulldata[0:3103]\n",
    "validatdata=fulldata[3103:3287]\n",
    "testdata=fulldata[3287:3468]\n",
    "holdoutdata=fulldata[3468:]"
   ]
  },
  {
   "cell_type": "code",
   "execution_count": 24,
   "metadata": {},
   "outputs": [],
   "source": [
    "trainstd=np.std(merged[\"btcprice return\"][1:3103])\n",
    "trainmean=np.mean(merged[\"btcprice return\"][1:3103])"
   ]
  },
  {
   "cell_type": "code",
   "execution_count": 25,
   "metadata": {},
   "outputs": [
    {
     "name": "stdout",
     "output_type": "stream",
     "text": [
      "(3069, 28, 18)\n",
      "(3069, 7)\n"
     ]
    }
   ],
   "source": [
    "xtrain=np.zeros([3069,28,18])\n",
    "ytrain=np.zeros([3069,7])\n",
    "for i in range(3069):\n",
    "    xtrain[i,:,:]=traindata.iloc[i:(i+28),1:]\n",
    "    ytrain[i,:]=traindata.iloc[(i+28):(i+35),1]\n",
    "print(xtrain.shape)\n",
    "print(ytrain.shape)"
   ]
  },
  {
   "cell_type": "code",
   "execution_count": 26,
   "metadata": {},
   "outputs": [
    {
     "name": "stdout",
     "output_type": "stream",
     "text": [
      "(150, 28, 18)\n",
      "(150, 7)\n"
     ]
    }
   ],
   "source": [
    "xvalid=np.zeros([150,28,18])\n",
    "yvalid=np.zeros([150,7])\n",
    "for i in range(150):\n",
    "    xvalid[i,:,:]=validatdata.iloc[i:(i+28),1:]\n",
    "    yvalid[i,:]=validatdata.iloc[(i+28):(i+35),1]\n",
    "print(xvalid.shape)\n",
    "print(yvalid.shape)"
   ]
  },
  {
   "cell_type": "code",
   "execution_count": 27,
   "metadata": {},
   "outputs": [
    {
     "name": "stdout",
     "output_type": "stream",
     "text": [
      "(147, 28, 18)\n",
      "(147, 7)\n"
     ]
    }
   ],
   "source": [
    "xtest=np.zeros([147,28,18])\n",
    "ytest=np.zeros([147,7])\n",
    "for i in range(147):\n",
    "    xtest[i,:,:]=testdata.iloc[i:(i+28),1:]\n",
    "    ytest[i,:]=testdata.iloc[(i+28):(i+35),1]\n",
    "print(xtest.shape)\n",
    "print(ytest.shape)"
   ]
  },
  {
   "cell_type": "code",
   "execution_count": 133,
   "metadata": {},
   "outputs": [
    {
     "name": "stdout",
     "output_type": "stream",
     "text": [
      "(28, 28, 18)\n",
      "(28, 7)\n"
     ]
    }
   ],
   "source": [
    "xholdout=np.zeros([28,28,18])\n",
    "yholdout=np.zeros([28,7])\n",
    "for i in range(28):\n",
    "    xholdout[i,:,:]=holdoutdata.iloc[i:(i+28),1:]\n",
    "    yholdout[i,:]=holdoutdata.iloc[(i+28):(i+35),1]\n",
    "print(xholdout.shape)\n",
    "print(yholdout.shape)"
   ]
  },
  {
   "cell_type": "markdown",
   "metadata": {},
   "source": [
    "### Part 3 Model Building"
   ]
  },
  {
   "cell_type": "markdown",
   "metadata": {},
   "source": [
    "##### 1.Average and Most Recent"
   ]
  },
  {
   "cell_type": "code",
   "execution_count": 28,
   "metadata": {},
   "outputs": [],
   "source": [
    "btcprice_valid=np.array(merged[\"btcprice\"][3103:3287])\n",
    "forecast_naiv1=np.zeros(150)\n",
    "forecast_naiv2=np.zeros(150)\n",
    "for i in range(150):\n",
    "    forecast_naiv1[i]=np.average(btcprice_valid[i:(i+28)])#average of 28 days\n",
    "    forecast_naiv2[i]=btcprice_valid[28+i]#last day of those 28 days\n"
   ]
  },
  {
   "cell_type": "code",
   "execution_count": 29,
   "metadata": {},
   "outputs": [
    {
     "name": "stdout",
     "output_type": "stream",
     "text": [
      "for validation set, the MAE of taking the average is  547.1514646258503\n"
     ]
    }
   ],
   "source": [
    "valid_mat=np.zeros([150,7])\n",
    "for i in range(150):\n",
    "    valid_mat[i,:]=btcprice_valid[(i+28):(i+35)]\n",
    "forecast_naiv1=np.reshape(forecast_naiv1,[150,1])\n",
    "mae_naivavg=np.mean(np.abs(forecast_naiv1-valid_mat))\n",
    "print(\"for validation set, the MAE of taking the average is \", mae_naivavg)"
   ]
  },
  {
   "cell_type": "code",
   "execution_count": 30,
   "metadata": {},
   "outputs": [
    {
     "name": "stdout",
     "output_type": "stream",
     "text": [
      "for validation set, the MAE of taking the average is  219.35503809523811\n"
     ]
    }
   ],
   "source": [
    "forecast_naiv2=np.reshape(forecast_naiv2,[150,1])\n",
    "mae_naivrecent=np.mean(np.abs(forecast_naiv2-valid_mat))\n",
    "print(\"for validation set, the MAE of taking the average is \", mae_naivrecent)"
   ]
  },
  {
   "cell_type": "markdown",
   "metadata": {},
   "source": [
    "Obviously, the second method performs better."
   ]
  },
  {
   "cell_type": "markdown",
   "metadata": {},
   "source": [
    "##### 2. Neural Network: 2 dense layers"
   ]
  },
  {
   "cell_type": "code",
   "execution_count": 31,
   "metadata": {
    "scrolled": true
   },
   "outputs": [
    {
     "name": "stderr",
     "output_type": "stream",
     "text": [
      "WARNING: Logging before flag parsing goes to stderr.\n",
      "W0925 14:19:07.360551 20424 deprecation_wrapper.py:119] From C:\\Users\\kendt\\Anaconda3\\lib\\site-packages\\keras\\backend\\tensorflow_backend.py:63: The name tf.get_default_graph is deprecated. Please use tf.compat.v1.get_default_graph instead.\n",
      "\n",
      "W0925 14:19:07.391762 20424 deprecation_wrapper.py:119] From C:\\Users\\kendt\\Anaconda3\\lib\\site-packages\\keras\\backend\\tensorflow_backend.py:492: The name tf.placeholder is deprecated. Please use tf.compat.v1.placeholder instead.\n",
      "\n",
      "W0925 14:19:07.423004 20424 deprecation.py:506] From C:\\Users\\kendt\\Anaconda3\\lib\\site-packages\\keras\\backend\\tensorflow_backend.py:1259: calling reduce_prod_v1 (from tensorflow.python.ops.math_ops) with keep_dims is deprecated and will be removed in a future version.\n",
      "Instructions for updating:\n",
      "keep_dims is deprecated, use keepdims instead\n",
      "W0925 14:19:07.438653 20424 deprecation_wrapper.py:119] From C:\\Users\\kendt\\Anaconda3\\lib\\site-packages\\keras\\backend\\tensorflow_backend.py:3630: The name tf.random_uniform is deprecated. Please use tf.random.uniform instead.\n",
      "\n",
      "W0925 14:19:07.485530 20424 deprecation_wrapper.py:119] From C:\\Users\\kendt\\Anaconda3\\lib\\site-packages\\keras\\optimizers.py:711: The name tf.train.Optimizer is deprecated. Please use tf.compat.v1.train.Optimizer instead.\n",
      "\n",
      "W0925 14:19:07.626119 20424 deprecation_wrapper.py:119] From C:\\Users\\kendt\\Anaconda3\\lib\\site-packages\\keras\\backend\\tensorflow_backend.py:953: The name tf.assign_add is deprecated. Please use tf.compat.v1.assign_add instead.\n",
      "\n",
      "W0925 14:19:07.657373 20424 deprecation.py:506] From C:\\Users\\kendt\\Anaconda3\\lib\\site-packages\\keras\\backend\\tensorflow_backend.py:675: calling Constant.__init__ (from tensorflow.python.ops.init_ops) with dtype is deprecated and will be removed in a future version.\n",
      "Instructions for updating:\n",
      "Call initializer instance with the dtype argument instead of passing it to the constructor\n",
      "W0925 14:19:07.704226 20424 deprecation_wrapper.py:119] From C:\\Users\\kendt\\Anaconda3\\lib\\site-packages\\keras\\backend\\tensorflow_backend.py:940: The name tf.assign is deprecated. Please use tf.compat.v1.assign instead.\n",
      "\n"
     ]
    },
    {
     "name": "stdout",
     "output_type": "stream",
     "text": [
      "Train on 3069 samples, validate on 150 samples\n",
      "Epoch 1/300\n",
      " - 0s - loss: 0.4343 - val_loss: 0.7478\n",
      "Epoch 2/300\n",
      " - 0s - loss: 0.2666 - val_loss: 0.7245\n",
      "Epoch 3/300\n",
      " - 0s - loss: 0.2527 - val_loss: 0.7227\n",
      "Epoch 4/300\n",
      " - 0s - loss: 0.2453 - val_loss: 0.7231\n",
      "Epoch 5/300\n",
      " - 0s - loss: 0.2409 - val_loss: 0.7222\n",
      "Epoch 6/300\n",
      " - 0s - loss: 0.2380 - val_loss: 0.7239\n",
      "Epoch 7/300\n",
      " - 0s - loss: 0.2350 - val_loss: 0.7247\n",
      "Epoch 8/300\n",
      " - 0s - loss: 0.2336 - val_loss: 0.7226\n",
      "Epoch 9/300\n",
      " - 0s - loss: 0.2314 - val_loss: 0.7254\n",
      "Epoch 10/300\n",
      " - 0s - loss: 0.2305 - val_loss: 0.7235\n",
      "Epoch 11/300\n",
      " - 0s - loss: 0.2298 - val_loss: 0.7226\n",
      "Epoch 12/300\n",
      " - 0s - loss: 0.2279 - val_loss: 0.7230\n",
      "Epoch 13/300\n",
      " - 0s - loss: 0.2260 - val_loss: 0.7228\n",
      "Epoch 14/300\n",
      " - 0s - loss: 0.2249 - val_loss: 0.7224\n",
      "Epoch 15/300\n",
      " - 0s - loss: 0.2243 - val_loss: 0.7250\n",
      "Epoch 16/300\n",
      " - 0s - loss: 0.2236 - val_loss: 0.7225\n",
      "Epoch 17/300\n",
      " - 0s - loss: 0.2225 - val_loss: 0.7259\n",
      "Epoch 18/300\n",
      " - 0s - loss: 0.2228 - val_loss: 0.7216\n",
      "Epoch 19/300\n",
      " - 0s - loss: 0.2221 - val_loss: 0.7257\n",
      "Epoch 20/300\n",
      " - 0s - loss: 0.2221 - val_loss: 0.7232\n",
      "Epoch 21/300\n",
      " - 0s - loss: 0.2200 - val_loss: 0.7253\n",
      "Epoch 22/300\n",
      " - 0s - loss: 0.2215 - val_loss: 0.7254\n",
      "Epoch 23/300\n",
      " - 0s - loss: 0.2187 - val_loss: 0.7236\n",
      "Epoch 24/300\n",
      " - 0s - loss: 0.2195 - val_loss: 0.7232\n",
      "Epoch 25/300\n",
      " - 0s - loss: 0.2179 - val_loss: 0.7229\n",
      "Epoch 26/300\n",
      " - 0s - loss: 0.2180 - val_loss: 0.7228\n",
      "Epoch 27/300\n",
      " - 0s - loss: 0.2170 - val_loss: 0.7246\n",
      "Epoch 28/300\n",
      " - 0s - loss: 0.2172 - val_loss: 0.7213\n",
      "Epoch 29/300\n",
      " - 0s - loss: 0.2171 - val_loss: 0.7228\n",
      "Epoch 30/300\n",
      " - 0s - loss: 0.2169 - val_loss: 0.7207\n",
      "Epoch 31/300\n",
      " - 0s - loss: 0.2165 - val_loss: 0.7200\n",
      "Epoch 32/300\n",
      " - 0s - loss: 0.2162 - val_loss: 0.7227\n",
      "Epoch 33/300\n",
      " - 0s - loss: 0.2157 - val_loss: 0.7219\n",
      "Epoch 34/300\n",
      " - 0s - loss: 0.2145 - val_loss: 0.7221\n",
      "Epoch 35/300\n",
      " - 0s - loss: 0.2154 - val_loss: 0.7215\n",
      "Epoch 36/300\n",
      " - 0s - loss: 0.2145 - val_loss: 0.7248\n",
      "Epoch 37/300\n",
      " - 0s - loss: 0.2140 - val_loss: 0.7222\n",
      "Epoch 38/300\n",
      " - 0s - loss: 0.2127 - val_loss: 0.7232\n",
      "Epoch 39/300\n",
      " - 0s - loss: 0.2118 - val_loss: 0.7212\n",
      "Epoch 40/300\n",
      " - 0s - loss: 0.2119 - val_loss: 0.7234\n",
      "Epoch 41/300\n",
      " - 0s - loss: 0.2122 - val_loss: 0.7246\n",
      "Epoch 42/300\n",
      " - 0s - loss: 0.2113 - val_loss: 0.7218\n",
      "Epoch 43/300\n",
      " - 0s - loss: 0.2123 - val_loss: 0.7210\n",
      "Epoch 44/300\n",
      " - 0s - loss: 0.2111 - val_loss: 0.7233\n",
      "Epoch 45/300\n",
      " - 0s - loss: 0.2116 - val_loss: 0.7239\n",
      "Epoch 46/300\n",
      " - 0s - loss: 0.2101 - val_loss: 0.7226\n",
      "Epoch 47/300\n",
      " - 0s - loss: 0.2111 - val_loss: 0.7218\n",
      "Epoch 48/300\n",
      " - 0s - loss: 0.2100 - val_loss: 0.7218\n",
      "Epoch 49/300\n",
      " - 0s - loss: 0.2099 - val_loss: 0.7226\n",
      "Epoch 50/300\n",
      " - 0s - loss: 0.2096 - val_loss: 0.7223\n",
      "Epoch 51/300\n",
      " - 0s - loss: 0.2098 - val_loss: 0.7252\n",
      "Epoch 52/300\n",
      " - 0s - loss: 0.2094 - val_loss: 0.7212\n",
      "Epoch 53/300\n",
      " - 0s - loss: 0.2087 - val_loss: 0.7231\n",
      "Epoch 54/300\n",
      " - 0s - loss: 0.2089 - val_loss: 0.7240\n",
      "Epoch 55/300\n",
      " - 0s - loss: 0.2086 - val_loss: 0.7206\n",
      "Epoch 56/300\n",
      " - 0s - loss: 0.2087 - val_loss: 0.7250\n",
      "Epoch 57/300\n",
      " - 0s - loss: 0.2077 - val_loss: 0.7241\n",
      "Epoch 58/300\n",
      " - 0s - loss: 0.2089 - val_loss: 0.7241\n",
      "Epoch 59/300\n",
      " - 0s - loss: 0.2086 - val_loss: 0.7248\n",
      "Epoch 60/300\n",
      " - 0s - loss: 0.2074 - val_loss: 0.7262\n",
      "Epoch 61/300\n",
      " - 0s - loss: 0.2079 - val_loss: 0.7226\n",
      "Epoch 62/300\n",
      " - 0s - loss: 0.2072 - val_loss: 0.7264\n",
      "Epoch 63/300\n",
      " - 0s - loss: 0.2071 - val_loss: 0.7233\n",
      "Epoch 64/300\n",
      " - 0s - loss: 0.2069 - val_loss: 0.7281\n",
      "Epoch 65/300\n",
      " - 0s - loss: 0.2067 - val_loss: 0.7232\n",
      "Epoch 66/300\n",
      " - 0s - loss: 0.2067 - val_loss: 0.7229\n",
      "Epoch 67/300\n",
      " - 0s - loss: 0.2067 - val_loss: 0.7206\n",
      "Epoch 68/300\n",
      " - 0s - loss: 0.2063 - val_loss: 0.7234\n",
      "Epoch 69/300\n",
      " - 0s - loss: 0.2064 - val_loss: 0.7260\n",
      "Epoch 70/300\n",
      " - 0s - loss: 0.2064 - val_loss: 0.7241\n",
      "Epoch 71/300\n",
      " - 0s - loss: 0.2061 - val_loss: 0.7245\n",
      "Epoch 72/300\n",
      " - 0s - loss: 0.2063 - val_loss: 0.7241\n",
      "Epoch 73/300\n",
      " - 0s - loss: 0.2064 - val_loss: 0.7218\n",
      "Epoch 74/300\n",
      " - 0s - loss: 0.2055 - val_loss: 0.7253\n",
      "Epoch 75/300\n",
      " - 0s - loss: 0.2057 - val_loss: 0.7234\n",
      "Epoch 76/300\n",
      " - 0s - loss: 0.2045 - val_loss: 0.7249\n",
      "Epoch 77/300\n",
      " - 0s - loss: 0.2047 - val_loss: 0.7245\n",
      "Epoch 78/300\n",
      " - 0s - loss: 0.2050 - val_loss: 0.7233\n",
      "Epoch 79/300\n",
      " - 0s - loss: 0.2048 - val_loss: 0.7250\n",
      "Epoch 80/300\n",
      " - 0s - loss: 0.2056 - val_loss: 0.7263\n",
      "Epoch 81/300\n",
      " - 0s - loss: 0.2055 - val_loss: 0.7243\n",
      "Epoch 82/300\n",
      " - 0s - loss: 0.2047 - val_loss: 0.7249\n",
      "Epoch 83/300\n",
      " - 0s - loss: 0.2050 - val_loss: 0.7244\n",
      "Epoch 84/300\n",
      " - 0s - loss: 0.2044 - val_loss: 0.7230\n",
      "Epoch 85/300\n",
      " - 0s - loss: 0.2049 - val_loss: 0.7246\n",
      "Epoch 86/300\n",
      " - 0s - loss: 0.2046 - val_loss: 0.7249\n",
      "Epoch 87/300\n",
      " - 0s - loss: 0.2041 - val_loss: 0.7243\n",
      "Epoch 88/300\n",
      " - 0s - loss: 0.2045 - val_loss: 0.7262\n",
      "Epoch 89/300\n",
      " - 0s - loss: 0.2035 - val_loss: 0.7238\n",
      "Epoch 90/300\n",
      " - 0s - loss: 0.2039 - val_loss: 0.7290\n",
      "Epoch 91/300\n",
      " - 0s - loss: 0.2034 - val_loss: 0.7260\n",
      "Epoch 92/300\n",
      " - 0s - loss: 0.2033 - val_loss: 0.7237\n",
      "Epoch 93/300\n",
      " - 0s - loss: 0.2038 - val_loss: 0.7252\n",
      "Epoch 94/300\n",
      " - 0s - loss: 0.2034 - val_loss: 0.7240\n",
      "Epoch 95/300\n",
      " - 0s - loss: 0.2037 - val_loss: 0.7222\n",
      "Epoch 96/300\n",
      " - 0s - loss: 0.2031 - val_loss: 0.7229\n",
      "Epoch 97/300\n",
      " - 0s - loss: 0.2033 - val_loss: 0.7227\n",
      "Epoch 98/300\n",
      " - 0s - loss: 0.2028 - val_loss: 0.7242\n",
      "Epoch 99/300\n",
      " - 0s - loss: 0.2031 - val_loss: 0.7238\n",
      "Epoch 100/300\n",
      " - 0s - loss: 0.2032 - val_loss: 0.7243\n",
      "Epoch 101/300\n",
      " - 0s - loss: 0.2026 - val_loss: 0.7254\n",
      "Epoch 102/300\n",
      " - 0s - loss: 0.2030 - val_loss: 0.7236\n",
      "Epoch 103/300\n",
      " - 0s - loss: 0.2027 - val_loss: 0.7229\n",
      "Epoch 104/300\n",
      " - 0s - loss: 0.2023 - val_loss: 0.7257\n",
      "Epoch 105/300\n",
      " - 0s - loss: 0.2021 - val_loss: 0.7237\n",
      "Epoch 106/300\n",
      " - 0s - loss: 0.2021 - val_loss: 0.7213\n",
      "Epoch 107/300\n",
      " - 0s - loss: 0.2018 - val_loss: 0.7263\n",
      "Epoch 108/300\n",
      " - 0s - loss: 0.2016 - val_loss: 0.7260\n",
      "Epoch 109/300\n",
      " - 0s - loss: 0.2018 - val_loss: 0.7253\n",
      "Epoch 110/300\n",
      " - 0s - loss: 0.2015 - val_loss: 0.7221\n",
      "Epoch 111/300\n",
      " - 0s - loss: 0.2023 - val_loss: 0.7250\n",
      "Epoch 112/300\n",
      " - 0s - loss: 0.2017 - val_loss: 0.7230\n",
      "Epoch 113/300\n",
      " - 0s - loss: 0.2014 - val_loss: 0.7252\n",
      "Epoch 114/300\n",
      " - 0s - loss: 0.2009 - val_loss: 0.7226\n",
      "Epoch 115/300\n",
      " - 0s - loss: 0.2012 - val_loss: 0.7218\n",
      "Epoch 116/300\n",
      " - 0s - loss: 0.2011 - val_loss: 0.7240\n",
      "Epoch 117/300\n",
      " - 0s - loss: 0.2011 - val_loss: 0.7242\n",
      "Epoch 118/300\n",
      " - 0s - loss: 0.2005 - val_loss: 0.7231\n",
      "Epoch 119/300\n",
      " - 0s - loss: 0.2009 - val_loss: 0.7256\n",
      "Epoch 120/300\n",
      " - 0s - loss: 0.2002 - val_loss: 0.7225\n",
      "Epoch 121/300\n",
      " - 0s - loss: 0.2003 - val_loss: 0.7269\n",
      "Epoch 122/300\n",
      " - 0s - loss: 0.2004 - val_loss: 0.7274\n",
      "Epoch 123/300\n",
      " - 0s - loss: 0.1997 - val_loss: 0.7264\n",
      "Epoch 124/300\n",
      " - 0s - loss: 0.2005 - val_loss: 0.7235\n",
      "Epoch 125/300\n",
      " - 0s - loss: 0.2003 - val_loss: 0.7264\n",
      "Epoch 126/300\n",
      " - 0s - loss: 0.2001 - val_loss: 0.7250\n",
      "Epoch 127/300\n",
      " - 0s - loss: 0.1997 - val_loss: 0.7263\n",
      "Epoch 128/300\n",
      " - 0s - loss: 0.1997 - val_loss: 0.7263\n",
      "Epoch 129/300\n",
      " - 0s - loss: 0.2000 - val_loss: 0.7241\n",
      "Epoch 130/300\n",
      " - 0s - loss: 0.1997 - val_loss: 0.7273\n",
      "Epoch 131/300\n",
      " - 0s - loss: 0.1996 - val_loss: 0.7263\n",
      "Epoch 132/300\n",
      " - 0s - loss: 0.1995 - val_loss: 0.7257\n",
      "Epoch 133/300\n",
      " - 0s - loss: 0.1993 - val_loss: 0.7261\n",
      "Epoch 134/300\n",
      " - 0s - loss: 0.1999 - val_loss: 0.7267\n",
      "Epoch 135/300\n",
      " - 0s - loss: 0.1991 - val_loss: 0.7304\n",
      "Epoch 136/300\n",
      " - 0s - loss: 0.1994 - val_loss: 0.7231\n",
      "Epoch 137/300\n",
      " - 0s - loss: 0.1991 - val_loss: 0.7259\n",
      "Epoch 138/300\n",
      " - 0s - loss: 0.1989 - val_loss: 0.7276\n",
      "Epoch 139/300\n",
      " - 0s - loss: 0.1986 - val_loss: 0.7255\n",
      "Epoch 140/300\n",
      " - 0s - loss: 0.1987 - val_loss: 0.7267\n",
      "Epoch 141/300\n",
      " - 0s - loss: 0.1981 - val_loss: 0.7277\n",
      "Epoch 142/300\n",
      " - 0s - loss: 0.1982 - val_loss: 0.7247\n",
      "Epoch 143/300\n",
      " - 0s - loss: 0.1977 - val_loss: 0.7271\n",
      "Epoch 144/300\n",
      " - 0s - loss: 0.1982 - val_loss: 0.7262\n",
      "Epoch 145/300\n",
      " - 0s - loss: 0.1981 - val_loss: 0.7266\n",
      "Epoch 146/300\n",
      " - 0s - loss: 0.1975 - val_loss: 0.7272\n",
      "Epoch 147/300\n",
      " - 0s - loss: 0.1980 - val_loss: 0.7273\n",
      "Epoch 148/300\n",
      " - 0s - loss: 0.1976 - val_loss: 0.7265\n",
      "Epoch 149/300\n",
      " - 0s - loss: 0.1980 - val_loss: 0.7265\n",
      "Epoch 150/300\n",
      " - 0s - loss: 0.1973 - val_loss: 0.7271\n",
      "Epoch 151/300\n",
      " - 0s - loss: 0.1973 - val_loss: 0.7285\n",
      "Epoch 152/300\n",
      " - 0s - loss: 0.1975 - val_loss: 0.7270\n",
      "Epoch 153/300\n",
      " - 0s - loss: 0.1970 - val_loss: 0.7288\n"
     ]
    },
    {
     "name": "stdout",
     "output_type": "stream",
     "text": [
      "Epoch 154/300\n",
      " - 0s - loss: 0.1971 - val_loss: 0.7285\n",
      "Epoch 155/300\n",
      " - 0s - loss: 0.1971 - val_loss: 0.7291\n",
      "Epoch 156/300\n",
      " - 0s - loss: 0.1966 - val_loss: 0.7321\n",
      "Epoch 157/300\n",
      " - 0s - loss: 0.1964 - val_loss: 0.7292\n",
      "Epoch 158/300\n",
      " - 0s - loss: 0.1965 - val_loss: 0.7275\n",
      "Epoch 159/300\n",
      " - 0s - loss: 0.1966 - val_loss: 0.7286\n",
      "Epoch 160/300\n",
      " - 0s - loss: 0.1964 - val_loss: 0.7293\n",
      "Epoch 161/300\n",
      " - 0s - loss: 0.1963 - val_loss: 0.7278\n",
      "Epoch 162/300\n",
      " - 0s - loss: 0.1966 - val_loss: 0.7283\n",
      "Epoch 163/300\n",
      " - 0s - loss: 0.1957 - val_loss: 0.7296\n",
      "Epoch 164/300\n",
      " - 0s - loss: 0.1962 - val_loss: 0.7317\n",
      "Epoch 165/300\n",
      " - 0s - loss: 0.1957 - val_loss: 0.7320\n",
      "Epoch 166/300\n",
      " - 0s - loss: 0.1958 - val_loss: 0.7322\n",
      "Epoch 167/300\n",
      " - 0s - loss: 0.1959 - val_loss: 0.7317\n",
      "Epoch 168/300\n",
      " - 0s - loss: 0.1951 - val_loss: 0.7302\n",
      "Epoch 169/300\n",
      " - 0s - loss: 0.1957 - val_loss: 0.7293\n",
      "Epoch 170/300\n",
      " - 0s - loss: 0.1951 - val_loss: 0.7341\n",
      "Epoch 171/300\n",
      " - 0s - loss: 0.1955 - val_loss: 0.7299\n",
      "Epoch 172/300\n",
      " - 0s - loss: 0.1953 - val_loss: 0.7298\n",
      "Epoch 173/300\n",
      " - 0s - loss: 0.1949 - val_loss: 0.7277\n",
      "Epoch 174/300\n",
      " - 0s - loss: 0.1943 - val_loss: 0.7314\n",
      "Epoch 175/300\n",
      " - 0s - loss: 0.1943 - val_loss: 0.7287\n",
      "Epoch 176/300\n",
      " - 0s - loss: 0.1940 - val_loss: 0.7312\n",
      "Epoch 177/300\n",
      " - 0s - loss: 0.1944 - val_loss: 0.7275\n",
      "Epoch 178/300\n",
      " - 0s - loss: 0.1946 - val_loss: 0.7307\n",
      "Epoch 179/300\n",
      " - 0s - loss: 0.1939 - val_loss: 0.7289\n",
      "Epoch 180/300\n",
      " - 0s - loss: 0.1944 - val_loss: 0.7295\n",
      "Epoch 181/300\n",
      " - 0s - loss: 0.1940 - val_loss: 0.7282\n",
      "Epoch 182/300\n",
      " - 0s - loss: 0.1934 - val_loss: 0.7287\n",
      "Epoch 183/300\n",
      " - 0s - loss: 0.1935 - val_loss: 0.7280\n",
      "Epoch 184/300\n",
      " - 0s - loss: 0.1931 - val_loss: 0.7312\n",
      "Epoch 185/300\n",
      " - 0s - loss: 0.1938 - val_loss: 0.7296\n",
      "Epoch 186/300\n",
      " - 0s - loss: 0.1928 - val_loss: 0.7297\n",
      "Epoch 187/300\n",
      " - 0s - loss: 0.1932 - val_loss: 0.7296\n",
      "Epoch 188/300\n",
      " - 0s - loss: 0.1934 - val_loss: 0.7300\n",
      "Epoch 189/300\n",
      " - 0s - loss: 0.1933 - val_loss: 0.7299\n",
      "Epoch 190/300\n",
      " - 0s - loss: 0.1931 - val_loss: 0.7307\n",
      "Epoch 191/300\n",
      " - 0s - loss: 0.1927 - val_loss: 0.7289\n",
      "Epoch 192/300\n",
      " - 0s - loss: 0.1928 - val_loss: 0.7313\n",
      "Epoch 193/300\n",
      " - 0s - loss: 0.1926 - val_loss: 0.7286\n",
      "Epoch 194/300\n",
      " - 0s - loss: 0.1924 - val_loss: 0.7291\n",
      "Epoch 195/300\n",
      " - 0s - loss: 0.1919 - val_loss: 0.7288\n",
      "Epoch 196/300\n",
      " - 0s - loss: 0.1924 - val_loss: 0.7283\n",
      "Epoch 197/300\n",
      " - 0s - loss: 0.1927 - val_loss: 0.7298\n",
      "Epoch 198/300\n",
      " - 0s - loss: 0.1919 - val_loss: 0.7309\n",
      "Epoch 199/300\n",
      " - 0s - loss: 0.1922 - val_loss: 0.7291\n",
      "Epoch 200/300\n",
      " - 0s - loss: 0.1919 - val_loss: 0.7301\n",
      "Epoch 201/300\n",
      " - 0s - loss: 0.1920 - val_loss: 0.7303\n",
      "Epoch 202/300\n",
      " - 0s - loss: 0.1918 - val_loss: 0.7288\n",
      "Epoch 203/300\n",
      " - 0s - loss: 0.1916 - val_loss: 0.7312\n",
      "Epoch 204/300\n",
      " - 0s - loss: 0.1917 - val_loss: 0.7303\n",
      "Epoch 205/300\n",
      " - 0s - loss: 0.1917 - val_loss: 0.7305\n",
      "Epoch 206/300\n",
      " - 0s - loss: 0.1919 - val_loss: 0.7297\n",
      "Epoch 207/300\n",
      " - 0s - loss: 0.1911 - val_loss: 0.7316\n",
      "Epoch 208/300\n",
      " - 0s - loss: 0.1914 - val_loss: 0.7310\n",
      "Epoch 209/300\n",
      " - 0s - loss: 0.1909 - val_loss: 0.7301\n",
      "Epoch 210/300\n",
      " - 0s - loss: 0.1909 - val_loss: 0.7288\n",
      "Epoch 211/300\n",
      " - 0s - loss: 0.1906 - val_loss: 0.7301\n",
      "Epoch 212/300\n",
      " - 0s - loss: 0.1905 - val_loss: 0.7304\n",
      "Epoch 213/300\n",
      " - 0s - loss: 0.1903 - val_loss: 0.7312\n",
      "Epoch 214/300\n",
      " - 0s - loss: 0.1897 - val_loss: 0.7299\n",
      "Epoch 215/300\n",
      " - 0s - loss: 0.1902 - val_loss: 0.7298\n",
      "Epoch 216/300\n",
      " - 0s - loss: 0.1893 - val_loss: 0.7300\n",
      "Epoch 217/300\n",
      " - 0s - loss: 0.1899 - val_loss: 0.7321\n",
      "Epoch 218/300\n",
      " - 0s - loss: 0.1895 - val_loss: 0.7296\n",
      "Epoch 219/300\n",
      " - 0s - loss: 0.1894 - val_loss: 0.7317\n",
      "Epoch 220/300\n",
      " - 0s - loss: 0.1890 - val_loss: 0.7295\n",
      "Epoch 221/300\n",
      " - 0s - loss: 0.1896 - val_loss: 0.7285\n",
      "Epoch 222/300\n",
      " - 0s - loss: 0.1890 - val_loss: 0.7303\n",
      "Epoch 223/300\n",
      " - 0s - loss: 0.1891 - val_loss: 0.7283\n",
      "Epoch 224/300\n",
      " - 0s - loss: 0.1889 - val_loss: 0.7304\n",
      "Epoch 225/300\n",
      " - 0s - loss: 0.1889 - val_loss: 0.7294\n",
      "Epoch 226/300\n",
      " - 0s - loss: 0.1887 - val_loss: 0.7306\n",
      "Epoch 227/300\n",
      " - 0s - loss: 0.1886 - val_loss: 0.7303\n",
      "Epoch 228/300\n",
      " - 0s - loss: 0.1888 - val_loss: 0.7305\n",
      "Epoch 229/300\n",
      " - 0s - loss: 0.1888 - val_loss: 0.7331\n",
      "Epoch 230/300\n",
      " - 0s - loss: 0.1890 - val_loss: 0.7315\n",
      "Epoch 231/300\n",
      " - 0s - loss: 0.1887 - val_loss: 0.7366\n",
      "Epoch 232/300\n",
      " - 0s - loss: 0.1890 - val_loss: 0.7294\n",
      "Epoch 233/300\n",
      " - 0s - loss: 0.1884 - val_loss: 0.7292\n",
      "Epoch 234/300\n",
      " - 0s - loss: 0.1884 - val_loss: 0.7282\n",
      "Epoch 235/300\n",
      " - 0s - loss: 0.1881 - val_loss: 0.7302\n",
      "Epoch 236/300\n",
      " - 0s - loss: 0.1880 - val_loss: 0.7317\n",
      "Epoch 237/300\n",
      " - 0s - loss: 0.1883 - val_loss: 0.7322\n",
      "Epoch 238/300\n",
      " - 0s - loss: 0.1881 - val_loss: 0.7309\n",
      "Epoch 239/300\n",
      " - 0s - loss: 0.1879 - val_loss: 0.7296\n",
      "Epoch 240/300\n",
      " - 0s - loss: 0.1878 - val_loss: 0.7300\n",
      "Epoch 241/300\n",
      " - 0s - loss: 0.1882 - val_loss: 0.7298\n",
      "Epoch 242/300\n",
      " - 0s - loss: 0.1874 - val_loss: 0.7295\n",
      "Epoch 243/300\n",
      " - 0s - loss: 0.1880 - val_loss: 0.7313\n",
      "Epoch 244/300\n",
      " - 0s - loss: 0.1872 - val_loss: 0.7287\n",
      "Epoch 245/300\n",
      " - 0s - loss: 0.1878 - val_loss: 0.7306\n",
      "Epoch 246/300\n",
      " - 0s - loss: 0.1870 - val_loss: 0.7285\n",
      "Epoch 247/300\n",
      " - 0s - loss: 0.1871 - val_loss: 0.7315\n",
      "Epoch 248/300\n",
      " - 0s - loss: 0.1872 - val_loss: 0.7290\n",
      "Epoch 249/300\n",
      " - 0s - loss: 0.1876 - val_loss: 0.7308\n",
      "Epoch 250/300\n",
      " - 0s - loss: 0.1875 - val_loss: 0.7283\n",
      "Epoch 251/300\n",
      " - 0s - loss: 0.1875 - val_loss: 0.7305\n",
      "Epoch 252/300\n",
      " - 0s - loss: 0.1873 - val_loss: 0.7296\n",
      "Epoch 253/300\n",
      " - 0s - loss: 0.1872 - val_loss: 0.7305\n",
      "Epoch 254/300\n",
      " - 0s - loss: 0.1868 - val_loss: 0.7294\n",
      "Epoch 255/300\n",
      " - 0s - loss: 0.1871 - val_loss: 0.7303\n",
      "Epoch 256/300\n",
      " - 0s - loss: 0.1867 - val_loss: 0.7308\n",
      "Epoch 257/300\n",
      " - 0s - loss: 0.1866 - val_loss: 0.7301\n",
      "Epoch 258/300\n",
      " - 0s - loss: 0.1868 - val_loss: 0.7316\n",
      "Epoch 259/300\n",
      " - 0s - loss: 0.1867 - val_loss: 0.7305\n",
      "Epoch 260/300\n",
      " - 0s - loss: 0.1865 - val_loss: 0.7292\n",
      "Epoch 261/300\n",
      " - 0s - loss: 0.1869 - val_loss: 0.7319\n",
      "Epoch 262/300\n",
      " - 0s - loss: 0.1868 - val_loss: 0.7304\n",
      "Epoch 263/300\n",
      " - 0s - loss: 0.1870 - val_loss: 0.7304\n",
      "Epoch 264/300\n",
      " - 0s - loss: 0.1862 - val_loss: 0.7318\n",
      "Epoch 265/300\n",
      " - 0s - loss: 0.1863 - val_loss: 0.7319\n",
      "Epoch 266/300\n",
      " - 0s - loss: 0.1863 - val_loss: 0.7312\n",
      "Epoch 267/300\n",
      " - 0s - loss: 0.1863 - val_loss: 0.7302\n",
      "Epoch 268/300\n",
      " - 0s - loss: 0.1863 - val_loss: 0.7317\n",
      "Epoch 269/300\n",
      " - 0s - loss: 0.1862 - val_loss: 0.7319\n",
      "Epoch 270/300\n",
      " - 0s - loss: 0.1864 - val_loss: 0.7331\n",
      "Epoch 271/300\n",
      " - 0s - loss: 0.1860 - val_loss: 0.7334\n",
      "Epoch 272/300\n",
      " - 0s - loss: 0.1867 - val_loss: 0.7346\n",
      "Epoch 273/300\n",
      " - 0s - loss: 0.1861 - val_loss: 0.7314\n",
      "Epoch 274/300\n",
      " - 0s - loss: 0.1860 - val_loss: 0.7324\n",
      "Epoch 275/300\n",
      " - 0s - loss: 0.1861 - val_loss: 0.7329\n",
      "Epoch 276/300\n",
      " - 0s - loss: 0.1860 - val_loss: 0.7310\n",
      "Epoch 277/300\n",
      " - 0s - loss: 0.1858 - val_loss: 0.7308\n",
      "Epoch 278/300\n",
      " - 0s - loss: 0.1860 - val_loss: 0.7302\n",
      "Epoch 279/300\n",
      " - 0s - loss: 0.1857 - val_loss: 0.7328\n",
      "Epoch 280/300\n",
      " - 0s - loss: 0.1855 - val_loss: 0.7317\n",
      "Epoch 281/300\n",
      " - 0s - loss: 0.1857 - val_loss: 0.7315\n",
      "Epoch 282/300\n",
      " - 0s - loss: 0.1857 - val_loss: 0.7315\n",
      "Epoch 283/300\n",
      " - 0s - loss: 0.1860 - val_loss: 0.7307\n",
      "Epoch 284/300\n",
      " - 0s - loss: 0.1858 - val_loss: 0.7312\n",
      "Epoch 285/300\n",
      " - 0s - loss: 0.1855 - val_loss: 0.7304\n",
      "Epoch 286/300\n",
      " - 0s - loss: 0.1857 - val_loss: 0.7329\n",
      "Epoch 287/300\n",
      " - 0s - loss: 0.1855 - val_loss: 0.7328\n",
      "Epoch 288/300\n",
      " - 0s - loss: 0.1851 - val_loss: 0.7297\n",
      "Epoch 289/300\n",
      " - 0s - loss: 0.1858 - val_loss: 0.7305\n",
      "Epoch 290/300\n",
      " - 0s - loss: 0.1855 - val_loss: 0.7312\n",
      "Epoch 291/300\n",
      " - 0s - loss: 0.1858 - val_loss: 0.7304\n",
      "Epoch 292/300\n",
      " - 0s - loss: 0.1853 - val_loss: 0.7310\n",
      "Epoch 293/300\n",
      " - 0s - loss: 0.1856 - val_loss: 0.7322\n",
      "Epoch 294/300\n",
      " - 0s - loss: 0.1852 - val_loss: 0.7330\n",
      "Epoch 295/300\n",
      " - 0s - loss: 0.1850 - val_loss: 0.7330\n",
      "Epoch 296/300\n",
      " - 0s - loss: 0.1852 - val_loss: 0.7301\n",
      "Epoch 297/300\n",
      " - 0s - loss: 0.1848 - val_loss: 0.7309\n",
      "Epoch 298/300\n",
      " - 0s - loss: 0.1846 - val_loss: 0.7298\n",
      "Epoch 299/300\n",
      " - 0s - loss: 0.1848 - val_loss: 0.7323\n",
      "Epoch 300/300\n",
      " - 0s - loss: 0.1848 - val_loss: 0.7315\n"
     ]
    },
    {
     "data": {
      "text/plain": [
       "<keras.callbacks.History at 0x1d66db836a0>"
      ]
     },
     "execution_count": 31,
     "metadata": {},
     "output_type": "execute_result"
    }
   ],
   "source": [
    "model2 = Sequential()\n",
    "model2.add(Flatten(input_shape=(28,18)))\n",
    "model2.add(Dense(63,activation=\"relu\"))\n",
    "model2.add(Dense(7,activation=\"relu\"))\n",
    "model2.compile(loss='mean_absolute_error', optimizer='adam')\n",
    "model2.fit(xtrain, ytrain, epochs=300, batch_size=100, verbose=2, validation_data=[xvalid,yvalid])"
   ]
  },
  {
   "cell_type": "markdown",
   "metadata": {},
   "source": [
    "Starting Price for 7-day prediction"
   ]
  },
  {
   "cell_type": "code",
   "execution_count": 139,
   "metadata": {},
   "outputs": [],
   "source": [
    "#Construct true prices matrix for each set and period starting price for return calculation\n",
    "starting_price=np.array(merged[\"btcprice\"])[27:3096]\n",
    "true_prices=np.zeros([3069,7])\n",
    "for i in range(7):\n",
    "    true_prices[:,i]=np.array(merged[\"btcprice\"])[(28+i):(3097+i)]\n",
    "    \n",
    "validstarting_price=np.array(merged[\"btcprice\"])[3130:3280]\n",
    "validtrue_prices=np.zeros([150,7])\n",
    "for i in range(7):\n",
    "    validtrue_prices[:,i]=np.array(merged[\"btcprice\"])[(3131+i):(3281+i)]\n",
    "    \n",
    "teststarting_price=np.array(merged[\"btcprice\"])[3314:3461]\n",
    "testtrue_prices=np.zeros([147,7])\n",
    "for i in range(7):\n",
    "    testtrue_prices[:,i]=np.array(merged[\"btcprice\"])[(3315+i):(3462+i)]\n",
    "\n",
    "holdoutstarting_price=np.array(merged[\"btcprice\"])[3495:3523]\n",
    "holdouttrue_prices=np.zeros([28,7])\n",
    "for i in range(7):\n",
    "    holdouttrue_prices[:,i]=np.array(merged[\"btcprice\"])[(3496+i):(3524+i)]"
   ]
  },
  {
   "cell_type": "code",
   "execution_count": 33,
   "metadata": {},
   "outputs": [
    {
     "name": "stdout",
     "output_type": "stream",
     "text": [
      "the loss for training set is  89.28307269094377\n",
      "the loss for valid set is  287.8308320824578\n"
     ]
    }
   ],
   "source": [
    "#denormalize the returns and add back to the starting period prices\n",
    "train_return=model2.predict(xtrain)*trainstd+trainmean\n",
    "train_price=np.zeros([3069,7])\n",
    "train_price[:,0]=starting_price+train_return[:,0]\n",
    "for i in range(6):\n",
    "    train_price[:,i+1]=train_price[:,i]+train_return[:,i+1]\n",
    "train_mae=np.mean(np.abs(train_price-true_prices))\n",
    "print(\"the loss for training set is \", train_mae)\n",
    "\n",
    "valid_return=model2.predict(xvalid)*trainstd+trainmean\n",
    "valid_price=np.zeros([150,7])\n",
    "valid_price[:,0]=validstarting_price+valid_return[:,0]\n",
    "for i in range(6):\n",
    "    valid_price[:,i+1]=valid_price[:,i]+valid_return[:,i+1]\n",
    "valid_mae=np.mean(np.abs(valid_price-validtrue_prices))\n",
    "print(\"the loss for valid set is \", valid_mae)"
   ]
  },
  {
   "cell_type": "markdown",
   "metadata": {},
   "source": [
    "Training loss is much lower than validation loss."
   ]
  },
  {
   "cell_type": "markdown",
   "metadata": {},
   "source": [
    "##### 3. Recurrent: LSTM"
   ]
  },
  {
   "cell_type": "code",
   "execution_count": 34,
   "metadata": {
    "scrolled": true
   },
   "outputs": [
    {
     "name": "stderr",
     "output_type": "stream",
     "text": [
      "W0925 14:21:32.981852 20424 deprecation.py:506] From C:\\Users\\kendt\\Anaconda3\\lib\\site-packages\\keras\\backend\\tensorflow_backend.py:1242: calling reduce_sum_v1 (from tensorflow.python.ops.math_ops) with keep_dims is deprecated and will be removed in a future version.\n",
      "Instructions for updating:\n",
      "keep_dims is deprecated, use keepdims instead\n",
      "W0925 14:21:33.309906 20424 deprecation.py:323] From C:\\Users\\kendt\\Anaconda3\\lib\\site-packages\\tensorflow\\python\\ops\\math_grad.py:1250: add_dispatch_support.<locals>.wrapper (from tensorflow.python.ops.array_ops) is deprecated and will be removed in a future version.\n",
      "Instructions for updating:\n",
      "Use tf.where in 2.0, which has the same broadcast rule as np.where\n"
     ]
    },
    {
     "name": "stdout",
     "output_type": "stream",
     "text": [
      "Train on 3069 samples, validate on 150 samples\n",
      "Epoch 1/70\n",
      " - 1s - loss: 0.3091 - val_loss: 0.7168\n",
      "Epoch 2/70\n",
      " - 0s - loss: 0.2853 - val_loss: 0.7132\n",
      "Epoch 3/70\n",
      " - 0s - loss: 0.2739 - val_loss: 0.7114\n",
      "Epoch 4/70\n",
      " - 0s - loss: 0.2683 - val_loss: 0.7106\n",
      "Epoch 5/70\n",
      " - 0s - loss: 0.2656 - val_loss: 0.7101\n",
      "Epoch 6/70\n",
      " - 0s - loss: 0.2643 - val_loss: 0.7100\n",
      "Epoch 7/70\n",
      " - 0s - loss: 0.2635 - val_loss: 0.7100\n",
      "Epoch 8/70\n",
      " - 0s - loss: 0.2631 - val_loss: 0.7100\n",
      "Epoch 9/70\n",
      " - 0s - loss: 0.2628 - val_loss: 0.7100\n",
      "Epoch 10/70\n",
      " - 0s - loss: 0.2627 - val_loss: 0.7100\n",
      "Epoch 11/70\n",
      " - 0s - loss: 0.2625 - val_loss: 0.7100\n",
      "Epoch 12/70\n",
      " - 0s - loss: 0.2624 - val_loss: 0.7100\n",
      "Epoch 13/70\n",
      " - 0s - loss: 0.2624 - val_loss: 0.7100\n",
      "Epoch 14/70\n",
      " - 0s - loss: 0.2623 - val_loss: 0.7100\n",
      "Epoch 15/70\n",
      " - 1s - loss: 0.2622 - val_loss: 0.7100\n",
      "Epoch 16/70\n",
      " - 1s - loss: 0.2622 - val_loss: 0.7101\n",
      "Epoch 17/70\n",
      " - 1s - loss: 0.2621 - val_loss: 0.7101\n",
      "Epoch 18/70\n",
      " - 1s - loss: 0.2620 - val_loss: 0.7101\n",
      "Epoch 19/70\n",
      " - 1s - loss: 0.2620 - val_loss: 0.7101\n",
      "Epoch 20/70\n",
      " - 1s - loss: 0.2619 - val_loss: 0.7101\n",
      "Epoch 21/70\n",
      " - 1s - loss: 0.2618 - val_loss: 0.7101\n",
      "Epoch 22/70\n",
      " - 1s - loss: 0.2617 - val_loss: 0.7101\n",
      "Epoch 23/70\n",
      " - 1s - loss: 0.2617 - val_loss: 0.7102\n",
      "Epoch 24/70\n",
      " - 1s - loss: 0.2616 - val_loss: 0.7102\n",
      "Epoch 25/70\n",
      " - 1s - loss: 0.2615 - val_loss: 0.7103\n",
      "Epoch 26/70\n",
      " - 1s - loss: 0.2614 - val_loss: 0.7103\n",
      "Epoch 27/70\n",
      " - 1s - loss: 0.2613 - val_loss: 0.7104\n",
      "Epoch 28/70\n",
      " - 1s - loss: 0.2612 - val_loss: 0.7104\n",
      "Epoch 29/70\n",
      " - 1s - loss: 0.2611 - val_loss: 0.7104\n",
      "Epoch 30/70\n",
      " - 1s - loss: 0.2610 - val_loss: 0.7104\n",
      "Epoch 31/70\n",
      " - 1s - loss: 0.2609 - val_loss: 0.7104\n",
      "Epoch 32/70\n",
      " - 1s - loss: 0.2608 - val_loss: 0.7104\n",
      "Epoch 33/70\n",
      " - 1s - loss: 0.2607 - val_loss: 0.7104\n",
      "Epoch 34/70\n",
      " - 1s - loss: 0.2606 - val_loss: 0.7104\n",
      "Epoch 35/70\n",
      " - 1s - loss: 0.2605 - val_loss: 0.7104\n",
      "Epoch 36/70\n",
      " - 1s - loss: 0.2604 - val_loss: 0.7105\n",
      "Epoch 37/70\n",
      " - 1s - loss: 0.2602 - val_loss: 0.7105\n",
      "Epoch 38/70\n",
      " - 1s - loss: 0.2601 - val_loss: 0.7104\n",
      "Epoch 39/70\n",
      " - 1s - loss: 0.2599 - val_loss: 0.7104\n",
      "Epoch 40/70\n",
      " - 1s - loss: 0.2598 - val_loss: 0.7103\n",
      "Epoch 41/70\n",
      " - 1s - loss: 0.2597 - val_loss: 0.7104\n",
      "Epoch 42/70\n",
      " - 1s - loss: 0.2596 - val_loss: 0.7104\n",
      "Epoch 43/70\n",
      " - 1s - loss: 0.2595 - val_loss: 0.7103\n",
      "Epoch 44/70\n",
      " - 1s - loss: 0.2594 - val_loss: 0.7103\n",
      "Epoch 45/70\n",
      " - 1s - loss: 0.2593 - val_loss: 0.7103\n",
      "Epoch 46/70\n",
      " - 1s - loss: 0.2591 - val_loss: 0.7103\n",
      "Epoch 47/70\n",
      " - 1s - loss: 0.2590 - val_loss: 0.7103\n",
      "Epoch 48/70\n",
      " - 1s - loss: 0.2590 - val_loss: 0.7104\n",
      "Epoch 49/70\n",
      " - 1s - loss: 0.2589 - val_loss: 0.7104\n",
      "Epoch 50/70\n",
      " - 1s - loss: 0.2588 - val_loss: 0.7104\n",
      "Epoch 51/70\n",
      " - 1s - loss: 0.2587 - val_loss: 0.7105\n",
      "Epoch 52/70\n",
      " - 1s - loss: 0.2586 - val_loss: 0.7105\n",
      "Epoch 53/70\n",
      " - 1s - loss: 0.2585 - val_loss: 0.7106\n",
      "Epoch 54/70\n",
      " - 1s - loss: 0.2584 - val_loss: 0.7106\n",
      "Epoch 55/70\n",
      " - 1s - loss: 0.2583 - val_loss: 0.7106\n",
      "Epoch 56/70\n",
      " - 1s - loss: 0.2582 - val_loss: 0.7108\n",
      "Epoch 57/70\n",
      " - 1s - loss: 0.2582 - val_loss: 0.7108\n",
      "Epoch 58/70\n",
      " - 1s - loss: 0.2580 - val_loss: 0.7108\n",
      "Epoch 59/70\n",
      " - 1s - loss: 0.2579 - val_loss: 0.7109\n",
      "Epoch 60/70\n",
      " - 1s - loss: 0.2578 - val_loss: 0.7110\n",
      "Epoch 61/70\n",
      " - 1s - loss: 0.2577 - val_loss: 0.7110\n",
      "Epoch 62/70\n",
      " - 1s - loss: 0.2576 - val_loss: 0.7112\n",
      "Epoch 63/70\n",
      " - 1s - loss: 0.2575 - val_loss: 0.7113\n",
      "Epoch 64/70\n",
      " - 1s - loss: 0.2574 - val_loss: 0.7113\n",
      "Epoch 65/70\n",
      " - 1s - loss: 0.2573 - val_loss: 0.7113\n",
      "Epoch 66/70\n",
      " - 1s - loss: 0.2572 - val_loss: 0.7114\n",
      "Epoch 67/70\n",
      " - 1s - loss: 0.2571 - val_loss: 0.7114\n",
      "Epoch 68/70\n",
      " - 1s - loss: 0.2570 - val_loss: 0.7115\n",
      "Epoch 69/70\n",
      " - 1s - loss: 0.2569 - val_loss: 0.7117\n",
      "Epoch 70/70\n",
      " - 1s - loss: 0.2568 - val_loss: 0.7118\n"
     ]
    },
    {
     "data": {
      "text/plain": [
       "<keras.callbacks.History at 0x1d674caee10>"
      ]
     },
     "execution_count": 34,
     "metadata": {},
     "output_type": "execute_result"
    }
   ],
   "source": [
    "model3 = Sequential()\n",
    "# model.add(Flatten(input_shape=(28,18)))\n",
    "# model.add(Dense(63,activation=\"relu\"))\n",
    "model3.add(LSTM(4, input_shape=(28, 18)))\n",
    "model3.add(Dense(7,activation=\"relu\"))\n",
    "model3.compile(loss='mean_absolute_error', optimizer='adam')\n",
    "model3.fit(xtrain, ytrain, epochs=70, batch_size=100, verbose=2, validation_data=[xvalid,yvalid])"
   ]
  },
  {
   "cell_type": "code",
   "execution_count": 35,
   "metadata": {},
   "outputs": [
    {
     "name": "stdout",
     "output_type": "stream",
     "text": [
      "the loss for training set is  93.70108590743132\n",
      "the loss for valid set is  281.606811018526\n"
     ]
    }
   ],
   "source": [
    "train_return=model3.predict(xtrain)*trainstd+trainmean\n",
    "train_price=np.zeros([3069,7])\n",
    "train_price[:,0]=starting_price+train_return[:,0]\n",
    "for i in range(6):\n",
    "    train_price[:,i+1]=train_price[:,i]+train_return[:,i+1]\n",
    "train_mae=np.mean(np.abs(train_price-true_prices))\n",
    "print(\"the loss for training set is \", train_mae)\n",
    "\n",
    "valid_return=model3.predict(xvalid)*trainstd+trainmean\n",
    "valid_price=np.zeros([150,7])\n",
    "valid_price[:,0]=validstarting_price+valid_return[:,0]\n",
    "for i in range(6):\n",
    "    valid_price[:,i+1]=valid_price[:,i]+valid_return[:,i+1]\n",
    "valid_mae=np.mean(np.abs(valid_price-validtrue_prices))\n",
    "print(\"the loss for valid set is \", valid_mae)"
   ]
  },
  {
   "cell_type": "markdown",
   "metadata": {},
   "source": [
    "Training loss is slightly worse than previous method, but validation loss is better now. It might be due to the better method."
   ]
  },
  {
   "cell_type": "markdown",
   "metadata": {},
   "source": [
    "##### 4. Recurrent: GRU"
   ]
  },
  {
   "cell_type": "code",
   "execution_count": 52,
   "metadata": {},
   "outputs": [
    {
     "name": "stdout",
     "output_type": "stream",
     "text": [
      "Train on 3069 samples, validate on 150 samples\n",
      "Epoch 1/70\n",
      " - 1s - loss: 0.3758 - val_loss: 0.7216\n",
      "Epoch 2/70\n",
      " - 0s - loss: 0.3252 - val_loss: 0.7116\n",
      "Epoch 3/70\n",
      " - 0s - loss: 0.2934 - val_loss: 0.7088\n",
      "Epoch 4/70\n",
      " - 0s - loss: 0.2771 - val_loss: 0.7084\n",
      "Epoch 5/70\n",
      " - 0s - loss: 0.2694 - val_loss: 0.7082\n",
      "Epoch 6/70\n",
      " - 0s - loss: 0.2655 - val_loss: 0.7084\n",
      "Epoch 7/70\n",
      " - 0s - loss: 0.2633 - val_loss: 0.7087\n",
      "Epoch 8/70\n",
      " - 0s - loss: 0.2621 - val_loss: 0.7088\n",
      "Epoch 9/70\n",
      " - 0s - loss: 0.2612 - val_loss: 0.7088\n",
      "Epoch 10/70\n",
      " - 0s - loss: 0.2605 - val_loss: 0.7087\n",
      "Epoch 11/70\n",
      " - 0s - loss: 0.2600 - val_loss: 0.7086\n",
      "Epoch 12/70\n",
      " - 0s - loss: 0.2597 - val_loss: 0.7085\n",
      "Epoch 13/70\n",
      " - 0s - loss: 0.2593 - val_loss: 0.7085\n",
      "Epoch 14/70\n",
      " - 0s - loss: 0.2590 - val_loss: 0.7084\n",
      "Epoch 15/70\n",
      " - 0s - loss: 0.2588 - val_loss: 0.7083\n",
      "Epoch 16/70\n",
      " - 0s - loss: 0.2586 - val_loss: 0.7083\n",
      "Epoch 17/70\n",
      " - 0s - loss: 0.2583 - val_loss: 0.7083\n",
      "Epoch 18/70\n",
      " - 0s - loss: 0.2581 - val_loss: 0.7083\n",
      "Epoch 19/70\n",
      " - 0s - loss: 0.2579 - val_loss: 0.7082\n",
      "Epoch 20/70\n",
      " - 0s - loss: 0.2577 - val_loss: 0.7083\n",
      "Epoch 21/70\n",
      " - 0s - loss: 0.2575 - val_loss: 0.7082\n",
      "Epoch 22/70\n",
      " - 0s - loss: 0.2573 - val_loss: 0.7081\n",
      "Epoch 23/70\n",
      " - 0s - loss: 0.2571 - val_loss: 0.7082\n",
      "Epoch 24/70\n",
      " - 0s - loss: 0.2569 - val_loss: 0.7081\n",
      "Epoch 25/70\n",
      " - 0s - loss: 0.2567 - val_loss: 0.7081\n",
      "Epoch 26/70\n",
      " - 0s - loss: 0.2565 - val_loss: 0.7080\n",
      "Epoch 27/70\n",
      " - 0s - loss: 0.2562 - val_loss: 0.7081\n",
      "Epoch 28/70\n",
      " - 0s - loss: 0.2560 - val_loss: 0.7081\n",
      "Epoch 29/70\n",
      " - 0s - loss: 0.2558 - val_loss: 0.7082\n",
      "Epoch 30/70\n",
      " - 0s - loss: 0.2555 - val_loss: 0.7081\n",
      "Epoch 31/70\n",
      " - 0s - loss: 0.2553 - val_loss: 0.7082\n",
      "Epoch 32/70\n",
      " - 0s - loss: 0.2551 - val_loss: 0.7084\n",
      "Epoch 33/70\n",
      " - 0s - loss: 0.2549 - val_loss: 0.7082\n",
      "Epoch 34/70\n",
      " - 0s - loss: 0.2547 - val_loss: 0.7083\n",
      "Epoch 35/70\n",
      " - 0s - loss: 0.2545 - val_loss: 0.7083\n",
      "Epoch 36/70\n",
      " - 0s - loss: 0.2543 - val_loss: 0.7083\n",
      "Epoch 37/70\n",
      " - 0s - loss: 0.2541 - val_loss: 0.7083\n",
      "Epoch 38/70\n",
      " - 0s - loss: 0.2540 - val_loss: 0.7083\n",
      "Epoch 39/70\n",
      " - 1s - loss: 0.2538 - val_loss: 0.7083\n",
      "Epoch 40/70\n",
      " - 1s - loss: 0.2535 - val_loss: 0.7083\n",
      "Epoch 41/70\n",
      " - 1s - loss: 0.2534 - val_loss: 0.7082\n",
      "Epoch 42/70\n",
      " - 0s - loss: 0.2531 - val_loss: 0.7082\n",
      "Epoch 43/70\n",
      " - 0s - loss: 0.2529 - val_loss: 0.7080\n",
      "Epoch 44/70\n",
      " - 0s - loss: 0.2527 - val_loss: 0.7080\n",
      "Epoch 45/70\n",
      " - 0s - loss: 0.2525 - val_loss: 0.7080\n",
      "Epoch 46/70\n",
      " - 0s - loss: 0.2522 - val_loss: 0.7079\n",
      "Epoch 47/70\n",
      " - 1s - loss: 0.2520 - val_loss: 0.7079\n",
      "Epoch 48/70\n",
      " - 0s - loss: 0.2519 - val_loss: 0.7079\n",
      "Epoch 49/70\n",
      " - 0s - loss: 0.2516 - val_loss: 0.7081\n",
      "Epoch 50/70\n",
      " - 0s - loss: 0.2514 - val_loss: 0.7078\n",
      "Epoch 51/70\n",
      " - 0s - loss: 0.2512 - val_loss: 0.7077\n",
      "Epoch 52/70\n",
      " - 0s - loss: 0.2510 - val_loss: 0.7081\n",
      "Epoch 53/70\n",
      " - 0s - loss: 0.2507 - val_loss: 0.7081\n",
      "Epoch 54/70\n",
      " - 0s - loss: 0.2506 - val_loss: 0.7080\n",
      "Epoch 55/70\n",
      " - 0s - loss: 0.2504 - val_loss: 0.7082\n",
      "Epoch 56/70\n",
      " - 0s - loss: 0.2502 - val_loss: 0.7082\n",
      "Epoch 57/70\n",
      " - 1s - loss: 0.2501 - val_loss: 0.7077\n",
      "Epoch 58/70\n",
      " - 0s - loss: 0.2501 - val_loss: 0.7080\n",
      "Epoch 59/70\n",
      " - 0s - loss: 0.2497 - val_loss: 0.7081\n",
      "Epoch 60/70\n",
      " - 1s - loss: 0.2496 - val_loss: 0.7081\n",
      "Epoch 61/70\n",
      " - 0s - loss: 0.2495 - val_loss: 0.7084\n",
      "Epoch 62/70\n",
      " - 1s - loss: 0.2492 - val_loss: 0.7085\n",
      "Epoch 63/70\n",
      " - 1s - loss: 0.2491 - val_loss: 0.7086\n",
      "Epoch 64/70\n",
      " - 1s - loss: 0.2489 - val_loss: 0.7087\n",
      "Epoch 65/70\n",
      " - 0s - loss: 0.2488 - val_loss: 0.7086\n",
      "Epoch 66/70\n",
      " - 0s - loss: 0.2488 - val_loss: 0.7088\n",
      "Epoch 67/70\n",
      " - 0s - loss: 0.2485 - val_loss: 0.7089\n",
      "Epoch 68/70\n",
      " - 1s - loss: 0.2485 - val_loss: 0.7090\n",
      "Epoch 69/70\n",
      " - 1s - loss: 0.2482 - val_loss: 0.7091\n",
      "Epoch 70/70\n",
      " - 1s - loss: 0.2481 - val_loss: 0.7092\n"
     ]
    },
    {
     "data": {
      "text/plain": [
       "<keras.callbacks.History at 0x1d67f217710>"
      ]
     },
     "execution_count": 52,
     "metadata": {},
     "output_type": "execute_result"
    }
   ],
   "source": [
    "model4 = Sequential()\n",
    "model4.add(GRU(8, input_shape=(28, 18)))\n",
    "model4.add(Dense(7,activation=\"relu\"))\n",
    "model4.compile(loss='mean_absolute_error', optimizer='adam')\n",
    "model4.fit(xtrain, ytrain, epochs=70, batch_size=100, verbose=2, validation_data=[xvalid,yvalid])"
   ]
  },
  {
   "cell_type": "code",
   "execution_count": 37,
   "metadata": {},
   "outputs": [
    {
     "name": "stdout",
     "output_type": "stream",
     "text": [
      "the loss for training set is  91.22563811720092\n",
      "the loss for valid set is  279.8274608436403\n"
     ]
    }
   ],
   "source": [
    "train_return=model4.predict(xtrain)*trainstd+trainmean\n",
    "train_price=np.zeros([3069,7])\n",
    "train_price[:,0]=starting_price+train_return[:,0]\n",
    "for i in range(6):\n",
    "    train_price[:,i+1]=train_price[:,i]+train_return[:,i+1]\n",
    "train_mae=np.mean(np.abs(train_price-true_prices))\n",
    "print(\"the loss for training set is \", train_mae)\n",
    "\n",
    "valid_return=model4.predict(xvalid)*trainstd+trainmean\n",
    "valid_price=np.zeros([150,7])\n",
    "valid_price[:,0]=validstarting_price+valid_return[:,0]\n",
    "for i in range(6):\n",
    "    valid_price[:,i+1]=valid_price[:,i]+valid_return[:,i+1]\n",
    "valid_mae=np.mean(np.abs(valid_price-validtrue_prices))\n",
    "print(\"the loss for valid set is \", valid_mae)"
   ]
  },
  {
   "cell_type": "markdown",
   "metadata": {},
   "source": [
    "Both traing loss and validation loss are better than the previous method."
   ]
  },
  {
   "cell_type": "markdown",
   "metadata": {},
   "source": [
    "##### 5. Recurrent: GRU with recurrent dropout"
   ]
  },
  {
   "cell_type": "code",
   "execution_count": 38,
   "metadata": {},
   "outputs": [
    {
     "name": "stderr",
     "output_type": "stream",
     "text": [
      "W0925 14:23:35.152606 20424 deprecation.py:506] From C:\\Users\\kendt\\Anaconda3\\lib\\site-packages\\keras\\backend\\tensorflow_backend.py:3013: calling dropout (from tensorflow.python.ops.nn_ops) with keep_prob is deprecated and will be removed in a future version.\n",
      "Instructions for updating:\n",
      "Please use `rate` instead of `keep_prob`. Rate should be set to `rate = 1 - keep_prob`.\n"
     ]
    },
    {
     "name": "stdout",
     "output_type": "stream",
     "text": [
      "Train on 3069 samples, validate on 150 samples\n",
      "Epoch 1/70\n",
      " - 1s - loss: 0.3666 - val_loss: 0.7380\n",
      "Epoch 2/70\n",
      " - 0s - loss: 0.3218 - val_loss: 0.7231\n",
      "Epoch 3/70\n",
      " - 0s - loss: 0.2942 - val_loss: 0.7156\n",
      "Epoch 4/70\n",
      " - 0s - loss: 0.2784 - val_loss: 0.7124\n",
      "Epoch 5/70\n",
      " - 0s - loss: 0.2703 - val_loss: 0.7108\n",
      "Epoch 6/70\n",
      " - 0s - loss: 0.2666 - val_loss: 0.7101\n",
      "Epoch 7/70\n",
      " - 0s - loss: 0.2648 - val_loss: 0.7099\n",
      "Epoch 8/70\n",
      " - 0s - loss: 0.2638 - val_loss: 0.7097\n",
      "Epoch 9/70\n",
      " - 0s - loss: 0.2631 - val_loss: 0.7095\n",
      "Epoch 10/70\n",
      " - 0s - loss: 0.2626 - val_loss: 0.7094\n",
      "Epoch 11/70\n",
      " - 0s - loss: 0.2621 - val_loss: 0.7093\n",
      "Epoch 12/70\n",
      " - 0s - loss: 0.2616 - val_loss: 0.7091\n",
      "Epoch 13/70\n",
      " - 0s - loss: 0.2613 - val_loss: 0.7090\n",
      "Epoch 14/70\n",
      " - 0s - loss: 0.2609 - val_loss: 0.7089\n",
      "Epoch 15/70\n",
      " - 0s - loss: 0.2607 - val_loss: 0.7088\n",
      "Epoch 16/70\n",
      " - 0s - loss: 0.2604 - val_loss: 0.7087\n",
      "Epoch 17/70\n",
      " - 0s - loss: 0.2601 - val_loss: 0.7085\n",
      "Epoch 18/70\n",
      " - 0s - loss: 0.2599 - val_loss: 0.7085\n",
      "Epoch 19/70\n",
      " - 0s - loss: 0.2597 - val_loss: 0.7085\n",
      "Epoch 20/70\n",
      " - 0s - loss: 0.2594 - val_loss: 0.7085\n",
      "Epoch 21/70\n",
      " - 0s - loss: 0.2592 - val_loss: 0.7084\n",
      "Epoch 22/70\n",
      " - 0s - loss: 0.2590 - val_loss: 0.7083\n",
      "Epoch 23/70\n",
      " - 0s - loss: 0.2588 - val_loss: 0.7082\n",
      "Epoch 24/70\n",
      " - 0s - loss: 0.2586 - val_loss: 0.7080\n",
      "Epoch 25/70\n",
      " - 0s - loss: 0.2584 - val_loss: 0.7077\n",
      "Epoch 26/70\n",
      " - 0s - loss: 0.2583 - val_loss: 0.7078\n",
      "Epoch 27/70\n",
      " - 0s - loss: 0.2581 - val_loss: 0.7075\n",
      "Epoch 28/70\n",
      " - 0s - loss: 0.2579 - val_loss: 0.7072\n",
      "Epoch 29/70\n",
      " - 0s - loss: 0.2578 - val_loss: 0.7072\n",
      "Epoch 30/70\n",
      " - 0s - loss: 0.2576 - val_loss: 0.7072\n",
      "Epoch 31/70\n",
      " - 0s - loss: 0.2574 - val_loss: 0.7070\n",
      "Epoch 32/70\n",
      " - 0s - loss: 0.2573 - val_loss: 0.7068\n",
      "Epoch 33/70\n",
      " - 0s - loss: 0.2571 - val_loss: 0.7068\n",
      "Epoch 34/70\n",
      " - 0s - loss: 0.2570 - val_loss: 0.7065\n",
      "Epoch 35/70\n",
      " - 0s - loss: 0.2569 - val_loss: 0.7066\n",
      "Epoch 36/70\n",
      " - 1s - loss: 0.2567 - val_loss: 0.7066\n",
      "Epoch 37/70\n",
      " - 0s - loss: 0.2566 - val_loss: 0.7065\n",
      "Epoch 38/70\n",
      " - 0s - loss: 0.2564 - val_loss: 0.7066\n",
      "Epoch 39/70\n",
      " - 0s - loss: 0.2563 - val_loss: 0.7066\n",
      "Epoch 40/70\n",
      " - 0s - loss: 0.2562 - val_loss: 0.7069\n",
      "Epoch 41/70\n",
      " - 0s - loss: 0.2561 - val_loss: 0.7070\n",
      "Epoch 42/70\n",
      " - 0s - loss: 0.2559 - val_loss: 0.7069\n",
      "Epoch 43/70\n",
      " - 0s - loss: 0.2558 - val_loss: 0.7068\n",
      "Epoch 44/70\n",
      " - 0s - loss: 0.2556 - val_loss: 0.7069\n",
      "Epoch 45/70\n",
      " - 0s - loss: 0.2555 - val_loss: 0.7070\n",
      "Epoch 46/70\n",
      " - 1s - loss: 0.2553 - val_loss: 0.7071\n",
      "Epoch 47/70\n",
      " - 1s - loss: 0.2552 - val_loss: 0.7070\n",
      "Epoch 48/70\n",
      " - 1s - loss: 0.2551 - val_loss: 0.7071\n",
      "Epoch 49/70\n",
      " - 1s - loss: 0.2549 - val_loss: 0.7069\n",
      "Epoch 50/70\n",
      " - 1s - loss: 0.2547 - val_loss: 0.7071\n",
      "Epoch 51/70\n",
      " - 0s - loss: 0.2546 - val_loss: 0.7071\n",
      "Epoch 52/70\n",
      " - 1s - loss: 0.2544 - val_loss: 0.7071\n",
      "Epoch 53/70\n",
      " - 0s - loss: 0.2542 - val_loss: 0.7071\n",
      "Epoch 54/70\n",
      " - 1s - loss: 0.2541 - val_loss: 0.7071\n",
      "Epoch 55/70\n",
      " - 1s - loss: 0.2540 - val_loss: 0.7069\n",
      "Epoch 56/70\n",
      " - 0s - loss: 0.2538 - val_loss: 0.7070\n",
      "Epoch 57/70\n",
      " - 1s - loss: 0.2536 - val_loss: 0.7069\n",
      "Epoch 58/70\n",
      " - 1s - loss: 0.2535 - val_loss: 0.7068\n",
      "Epoch 59/70\n",
      " - 1s - loss: 0.2533 - val_loss: 0.7070\n",
      "Epoch 60/70\n",
      " - 1s - loss: 0.2532 - val_loss: 0.7068\n",
      "Epoch 61/70\n",
      " - 0s - loss: 0.2531 - val_loss: 0.7068\n",
      "Epoch 62/70\n",
      " - 1s - loss: 0.2529 - val_loss: 0.7068\n",
      "Epoch 63/70\n",
      " - 1s - loss: 0.2527 - val_loss: 0.7068\n",
      "Epoch 64/70\n",
      " - 1s - loss: 0.2525 - val_loss: 0.7069\n",
      "Epoch 65/70\n",
      " - 1s - loss: 0.2524 - val_loss: 0.7068\n",
      "Epoch 66/70\n",
      " - 1s - loss: 0.2522 - val_loss: 0.7071\n",
      "Epoch 67/70\n",
      " - 1s - loss: 0.2521 - val_loss: 0.7071\n",
      "Epoch 68/70\n",
      " - 0s - loss: 0.2519 - val_loss: 0.7070\n",
      "Epoch 69/70\n",
      " - 1s - loss: 0.2518 - val_loss: 0.7070\n",
      "Epoch 70/70\n",
      " - 0s - loss: 0.2517 - val_loss: 0.7070\n"
     ]
    },
    {
     "data": {
      "text/plain": [
       "<keras.callbacks.History at 0x1d679156cc0>"
      ]
     },
     "execution_count": 38,
     "metadata": {},
     "output_type": "execute_result"
    }
   ],
   "source": [
    "model5 = Sequential()\n",
    "model5.add(GRU(8, input_shape=(28, 18),recurrent_dropout=0.5))\n",
    "model5.add(Dense(7,activation=\"relu\"))\n",
    "model5.compile(loss='mean_absolute_error', optimizer='adam')\n",
    "model5.fit(xtrain, ytrain, epochs=70, batch_size=100, verbose=2, validation_data=[xvalid,yvalid])"
   ]
  },
  {
   "cell_type": "code",
   "execution_count": 39,
   "metadata": {
    "scrolled": true
   },
   "outputs": [
    {
     "name": "stdout",
     "output_type": "stream",
     "text": [
      "the loss for training set is  91.83468126291936\n",
      "the loss for valid set is  277.92565463523863\n"
     ]
    }
   ],
   "source": [
    "train_return=model5.predict(xtrain)*trainstd+trainmean\n",
    "train_price=np.zeros([3069,7])\n",
    "train_price[:,0]=starting_price+train_return[:,0]\n",
    "for i in range(6):\n",
    "    train_price[:,i+1]=train_price[:,i]+train_return[:,i+1]\n",
    "train_mae=np.mean(np.abs(train_price-true_prices))\n",
    "print(\"the loss for training set is \", train_mae)\n",
    "\n",
    "valid_return=model5.predict(xvalid)*trainstd+trainmean\n",
    "valid_price=np.zeros([150,7])\n",
    "valid_price[:,0]=validstarting_price+valid_return[:,0]\n",
    "for i in range(6):\n",
    "    valid_price[:,i+1]=valid_price[:,i]+valid_return[:,i+1]\n",
    "valid_mae=np.mean(np.abs(valid_price-validtrue_prices))\n",
    "print(\"the loss for valid set is \", valid_mae)"
   ]
  },
  {
   "cell_type": "markdown",
   "metadata": {},
   "source": [
    "Validation loss are better than the previous method. Also validation loss does not increase in the latter epochs."
   ]
  },
  {
   "cell_type": "markdown",
   "metadata": {},
   "source": [
    "##### 6 Recurrent: GRU with recurrent dropout"
   ]
  },
  {
   "cell_type": "code",
   "execution_count": 153,
   "metadata": {
    "scrolled": true
   },
   "outputs": [
    {
     "name": "stdout",
     "output_type": "stream",
     "text": [
      "Train on 3069 samples, validate on 150 samples\n",
      "Epoch 1/70\n",
      " - 3s - loss: 0.2895 - val_loss: 0.7090\n",
      "Epoch 2/70\n",
      " - 1s - loss: 0.2657 - val_loss: 0.7091\n",
      "Epoch 3/70\n",
      " - 1s - loss: 0.2632 - val_loss: 0.7091\n",
      "Epoch 4/70\n",
      " - 1s - loss: 0.2626 - val_loss: 0.7091\n",
      "Epoch 5/70\n",
      " - 1s - loss: 0.2626 - val_loss: 0.7091\n",
      "Epoch 6/70\n",
      " - 1s - loss: 0.2626 - val_loss: 0.7091\n",
      "Epoch 7/70\n",
      " - 1s - loss: 0.2626 - val_loss: 0.7091\n",
      "Epoch 8/70\n",
      " - 1s - loss: 0.2626 - val_loss: 0.7091\n",
      "Epoch 9/70\n",
      " - 1s - loss: 0.2626 - val_loss: 0.7091\n",
      "Epoch 10/70\n",
      " - 1s - loss: 0.2626 - val_loss: 0.7091\n",
      "Epoch 11/70\n",
      " - 1s - loss: 0.2626 - val_loss: 0.7091\n",
      "Epoch 12/70\n",
      " - 1s - loss: 0.2626 - val_loss: 0.7091\n",
      "Epoch 13/70\n",
      " - 1s - loss: 0.2625 - val_loss: 0.7091\n",
      "Epoch 14/70\n",
      " - 1s - loss: 0.2625 - val_loss: 0.7091\n",
      "Epoch 15/70\n",
      " - 1s - loss: 0.2625 - val_loss: 0.7091\n",
      "Epoch 16/70\n",
      " - 1s - loss: 0.2626 - val_loss: 0.7092\n",
      "Epoch 17/70\n",
      " - 1s - loss: 0.2624 - val_loss: 0.7091\n",
      "Epoch 18/70\n",
      " - 1s - loss: 0.2623 - val_loss: 0.7091\n",
      "Epoch 19/70\n",
      " - 1s - loss: 0.2623 - val_loss: 0.7092\n",
      "Epoch 20/70\n",
      " - 1s - loss: 0.2625 - val_loss: 0.7091\n",
      "Epoch 21/70\n",
      " - 1s - loss: 0.2622 - val_loss: 0.7091\n",
      "Epoch 22/70\n",
      " - 1s - loss: 0.2622 - val_loss: 0.7091\n",
      "Epoch 23/70\n",
      " - 1s - loss: 0.2621 - val_loss: 0.7090\n",
      "Epoch 24/70\n",
      " - 1s - loss: 0.2620 - val_loss: 0.7090\n",
      "Epoch 25/70\n",
      " - 1s - loss: 0.2618 - val_loss: 0.7089\n",
      "Epoch 26/70\n",
      " - 1s - loss: 0.2617 - val_loss: 0.7090\n",
      "Epoch 27/70\n",
      " - 1s - loss: 0.2612 - val_loss: 0.7092\n",
      "Epoch 28/70\n",
      " - 1s - loss: 0.2610 - val_loss: 0.7094\n",
      "Epoch 29/70\n",
      " - 1s - loss: 0.2612 - val_loss: 0.7096\n",
      "Epoch 30/70\n",
      " - 1s - loss: 0.2611 - val_loss: 0.7094\n",
      "Epoch 31/70\n",
      " - 1s - loss: 0.2609 - val_loss: 0.7096\n",
      "Epoch 32/70\n",
      " - 1s - loss: 0.2606 - val_loss: 0.7095\n",
      "Epoch 33/70\n",
      " - 1s - loss: 0.2600 - val_loss: 0.7096\n",
      "Epoch 34/70\n",
      " - 1s - loss: 0.2601 - val_loss: 0.7096\n",
      "Epoch 35/70\n",
      " - 1s - loss: 0.2602 - val_loss: 0.7099\n",
      "Epoch 36/70\n",
      " - 1s - loss: 0.2600 - val_loss: 0.7098\n",
      "Epoch 37/70\n",
      " - 1s - loss: 0.2598 - val_loss: 0.7100\n",
      "Epoch 38/70\n",
      " - 1s - loss: 0.2599 - val_loss: 0.7102\n",
      "Epoch 39/70\n",
      " - 1s - loss: 0.2595 - val_loss: 0.7101\n",
      "Epoch 40/70\n",
      " - 1s - loss: 0.2592 - val_loss: 0.7102\n",
      "Epoch 41/70\n",
      " - 1s - loss: 0.2589 - val_loss: 0.7099\n",
      "Epoch 42/70\n",
      " - 1s - loss: 0.2590 - val_loss: 0.7100\n",
      "Epoch 43/70\n",
      " - 1s - loss: 0.2583 - val_loss: 0.7102\n",
      "Epoch 44/70\n",
      " - 1s - loss: 0.2583 - val_loss: 0.7101\n",
      "Epoch 45/70\n",
      " - 1s - loss: 0.2581 - val_loss: 0.7103\n",
      "Epoch 46/70\n",
      " - 1s - loss: 0.2573 - val_loss: 0.7108\n",
      "Epoch 47/70\n",
      " - 1s - loss: 0.2570 - val_loss: 0.7115\n",
      "Epoch 48/70\n",
      " - 1s - loss: 0.2571 - val_loss: 0.7122\n",
      "Epoch 49/70\n",
      " - 1s - loss: 0.2571 - val_loss: 0.7104\n",
      "Epoch 50/70\n",
      " - 1s - loss: 0.2575 - val_loss: 0.7121\n",
      "Epoch 51/70\n",
      " - 1s - loss: 0.2560 - val_loss: 0.7134\n",
      "Epoch 52/70\n",
      " - 1s - loss: 0.2560 - val_loss: 0.7126\n",
      "Epoch 53/70\n",
      " - 1s - loss: 0.2567 - val_loss: 0.7115\n",
      "Epoch 54/70\n",
      " - 1s - loss: 0.2559 - val_loss: 0.7124\n",
      "Epoch 55/70\n",
      " - 1s - loss: 0.2562 - val_loss: 0.7133\n",
      "Epoch 56/70\n",
      " - 1s - loss: 0.2559 - val_loss: 0.7138\n",
      "Epoch 57/70\n",
      " - 1s - loss: 0.2560 - val_loss: 0.7134\n",
      "Epoch 58/70\n",
      " - 1s - loss: 0.2546 - val_loss: 0.7132\n",
      "Epoch 59/70\n",
      " - 1s - loss: 0.2553 - val_loss: 0.7128\n",
      "Epoch 60/70\n",
      " - 1s - loss: 0.2550 - val_loss: 0.7162\n",
      "Epoch 61/70\n",
      " - 1s - loss: 0.2560 - val_loss: 0.7142\n",
      "Epoch 62/70\n",
      " - 1s - loss: 0.2548 - val_loss: 0.7153\n",
      "Epoch 63/70\n",
      " - 1s - loss: 0.2549 - val_loss: 0.7161\n",
      "Epoch 64/70\n",
      " - 1s - loss: 0.2545 - val_loss: 0.7134\n",
      "Epoch 65/70\n",
      " - 1s - loss: 0.2543 - val_loss: 0.7126\n",
      "Epoch 66/70\n",
      " - 1s - loss: 0.2540 - val_loss: 0.7124\n",
      "Epoch 67/70\n",
      " - 1s - loss: 0.2540 - val_loss: 0.7126\n",
      "Epoch 68/70\n",
      " - 1s - loss: 0.2541 - val_loss: 0.7119\n",
      "Epoch 69/70\n",
      " - 1s - loss: 0.2545 - val_loss: 0.7114\n",
      "Epoch 70/70\n",
      " - 1s - loss: 0.2538 - val_loss: 0.7129\n"
     ]
    },
    {
     "data": {
      "text/plain": [
       "<keras.callbacks.History at 0x1d61154c2b0>"
      ]
     },
     "execution_count": 153,
     "metadata": {},
     "output_type": "execute_result"
    }
   ],
   "source": [
    "model6 = Sequential()\n",
    "model6.add(GRU(16, input_shape=(28, 18),recurrent_dropout=0.5,return_sequences=True))\n",
    "model6.add(GRU(8, recurrent_dropout=0.5,dropout=0.5,return_sequences=False))\n",
    "model6.add(Dense(32,activation=\"relu\"))\n",
    "model6.add(Dense(7,activation=\"relu\"))\n",
    "model6.compile(loss='mean_absolute_error', optimizer='adam')\n",
    "model6.fit(xtrain, ytrain, epochs=70, batch_size=100, verbose=2, validation_data=[xvalid,yvalid])"
   ]
  },
  {
   "cell_type": "code",
   "execution_count": 157,
   "metadata": {},
   "outputs": [
    {
     "name": "stdout",
     "output_type": "stream",
     "text": [
      "the loss for training set is  87.92476893382194\n",
      "the loss for valid set is  287.4759059250241\n"
     ]
    }
   ],
   "source": [
    "train_return=model6.predict(xtrain)*trainstd+trainmean\n",
    "train_price=np.zeros([3069,7])\n",
    "train_price[:,0]=starting_price+train_return[:,0]\n",
    "for i in range(6):\n",
    "    train_price[:,i+1]=train_price[:,i]+train_return[:,i+1]\n",
    "train_mae=np.mean(np.abs(train_price-true_prices))\n",
    "print(\"the loss for training set is \", train_mae)\n",
    "\n",
    "valid_return=model6.predict(xvalid)*trainstd+trainmean\n",
    "valid_price=np.zeros([150,7])\n",
    "valid_price[:,0]=validstarting_price+valid_return[:,0]\n",
    "for i in range(6):\n",
    "    valid_price[:,i+1]=valid_price[:,i]+valid_return[:,i+1]\n",
    "valid_mae=np.mean(np.abs(valid_price-validtrue_prices))\n",
    "print(\"the loss for valid set is \", valid_mae)"
   ]
  },
  {
   "cell_type": "markdown",
   "metadata": {},
   "source": [
    "Validation loss is worse than the previous method."
   ]
  },
  {
   "cell_type": "markdown",
   "metadata": {},
   "source": [
    "##### 7.ARIMA"
   ]
  },
  {
   "cell_type": "code",
   "execution_count": 42,
   "metadata": {},
   "outputs": [
    {
     "name": "stdout",
     "output_type": "stream",
     "text": [
      "                             ARIMA Model Results                              \n",
      "==============================================================================\n",
      "Dep. Variable:                    D.y   No. Observations:                 3102\n",
      "Model:                 ARIMA(1, 1, 0)   Log Likelihood              -20365.807\n",
      "Method:                       css-mle   S.D. of innovations            171.819\n",
      "Date:                Wed, 25 Sep 2019   AIC                          40737.613\n",
      "Time:                        14:26:02   BIC                          40755.732\n",
      "Sample:                             1   HQIC                         40744.119\n",
      "                                                                              \n",
      "==============================================================================\n",
      "                 coef    std err          z      P>|z|      [0.025      0.975]\n",
      "------------------------------------------------------------------------------\n",
      "const          2.0096      3.331      0.603      0.546      -4.518       8.537\n",
      "ar.L1.D.y      0.0737      0.018      4.117      0.000       0.039       0.109\n",
      "                                    Roots                                    \n",
      "=============================================================================\n",
      "                  Real          Imaginary           Modulus         Frequency\n",
      "-----------------------------------------------------------------------------\n",
      "AR.1           13.5596           +0.0000j           13.5596            0.0000\n",
      "-----------------------------------------------------------------------------\n",
      "for training set, the MAE of using ARIMA is  1186.4383930387603\n"
     ]
    }
   ],
   "source": [
    "arimadata=np.array(merged[\"btcprice\"][0:3103])\n",
    "arimamodel = ARIMA(arimadata, order=(1,1,0))\n",
    "model_fit = arimamodel.fit(disp=0)\n",
    "print(model_fit.summary())\n",
    "\n",
    "arima_realmat=np.zeros([3069,7])\n",
    "arima_forecastmat=np.zeros([3069,7])\n",
    "for i in range(3069):\n",
    "    arima_realmat[i,:]=arimadata[(28+i):(35+i)]\n",
    "    \n",
    "arima_forecastmat=np.zeros([3069,9])\n",
    "arima_forecastmat[:,0]=merged[\"btcprice\"][27:3096]\n",
    "arima_forecastmat[:,1]=np.diff(arimadata)[26:3095]\n",
    "arima_forecastprice=np.zeros([3069,8])\n",
    "arima_forecastprice[:,0]=merged[\"btcprice\"][27:3096]\n",
    "for i in range(7):\n",
    "    arima_forecastmat[:,i+2]=model_fit.params[0]+model_fit.params[1]*arima_forecastmat[:,i+1]\n",
    "    arima_forecastprice[:,i+1]=arima_forecastprice[:,i]+arima_forecastmat[:,i+2]\n",
    "arimatrain_mae=np.mean(arima_realmat-arima_forecastmat[:,1:8])\n",
    "print(\"for training set, the MAE of using ARIMA is \",arimatrain_mae)"
   ]
  },
  {
   "cell_type": "code",
   "execution_count": 43,
   "metadata": {
    "scrolled": true
   },
   "outputs": [
    {
     "name": "stdout",
     "output_type": "stream",
     "text": [
      "for validation set, the MAE of using ARIMA is  119.22141312991161\n"
     ]
    }
   ],
   "source": [
    "valid_arima=np.array(merged[\"btcprice\"][3103:3287])\n",
    "valid_arimamat=np.zeros([150,9])\n",
    "valid_arimaret=np.diff(valid_arima)\n",
    "valid_arimamat[:,1]=valid_arimaret[26:176]\n",
    "valid_arimaprice=np.zeros([150,8])\n",
    "valid_arimaprice[:,0]=valid_arima[27:177]\n",
    "for i in range(7):\n",
    "    valid_arimamat[:,i+2]=model_fit.params[0]+model_fit.params[1]*valid_arimamat[:,i+1]\n",
    "    valid_arimaprice[:,i+1]=valid_arimaprice[:,i]+valid_arimamat[:,i+2]\n",
    "\n",
    "valid_realmat=np.zeros([150,7])\n",
    "for i in range(150):\n",
    "    valid_realmat[i,:]=valid_arima[(28+i):(35+i)]\n",
    "arimavalid_mae=np.mean(valid_arimaprice[:,1:8]-valid_realmat) \n",
    "print(\"for validation set, the MAE of using ARIMA is \",arimavalid_mae)    "
   ]
  },
  {
   "cell_type": "markdown",
   "metadata": {},
   "source": [
    "ARIMA(1,1,0) has a bad training loss, but an impressive validation loss."
   ]
  },
  {
   "cell_type": "markdown",
   "metadata": {},
   "source": [
    "##### Ensemble model"
   ]
  },
  {
   "cell_type": "markdown",
   "metadata": {},
   "source": [
    "As BTC prices is non-stationary and we use BTC price returns as our dependent variable and previous price returns as independent variables, we implicitly imbedded ARIMA in our deep learning model. However, MA term is neglected here. One could additionally regress realized returns on estimator of returns by deep learning model and ARIMA estimator."
   ]
  },
  {
   "cell_type": "markdown",
   "metadata": {},
   "source": [
    "### Part 4 Compare models"
   ]
  },
  {
   "cell_type": "markdown",
   "metadata": {},
   "source": [
    "##### 2 benchmark models"
   ]
  },
  {
   "cell_type": "code",
   "execution_count": 44,
   "metadata": {},
   "outputs": [],
   "source": [
    "btcprice_test=np.array(merged[\"btcprice\"][3287:3468])\n",
    "forecast_naiv1test=np.zeros(147)\n",
    "forecast_naiv2test=np.array(merged[\"btcprice\"][3314:3461])\n",
    "for i in range(147):\n",
    "    forecast_naiv1test[i]=np.average(btcprice_test[i:(i+28)])\n"
   ]
  },
  {
   "cell_type": "code",
   "execution_count": 45,
   "metadata": {},
   "outputs": [
    {
     "name": "stdout",
     "output_type": "stream",
     "text": [
      "for test set, the MAE of taking the average is  721.080755240872\n"
     ]
    }
   ],
   "source": [
    "#7-day true prices in the test set\n",
    "test_mat=np.zeros([147,7])\n",
    "for i in range(147):\n",
    "    test_mat[i,:]=btcprice_test[(i+28):(i+35)]\n",
    "forecast_naiv1test=np.reshape(forecast_naiv1test,[147,1])\n",
    "mae_naivavg_test=np.mean(np.abs(forecast_naiv1test-test_mat))\n",
    "print(\"for test set, the MAE of taking the average is \", mae_naivavg_test)"
   ]
  },
  {
   "cell_type": "code",
   "execution_count": 46,
   "metadata": {},
   "outputs": [
    {
     "name": "stdout",
     "output_type": "stream",
     "text": [
      "for test set, the MAE of taking the most recent observation is  319.9327113702624\n"
     ]
    }
   ],
   "source": [
    "forecast_naiv2test=np.reshape(forecast_naiv2test,[147,1])\n",
    "mae_naivrecent_test=np.mean(np.abs(forecast_naiv2test-test_mat))\n",
    "print(\"for test set, the MAE of taking the most recent observation is \", mae_naivrecent_test)"
   ]
  },
  {
   "cell_type": "markdown",
   "metadata": {},
   "source": [
    "##### 2 dense layers"
   ]
  },
  {
   "cell_type": "code",
   "execution_count": 47,
   "metadata": {},
   "outputs": [
    {
     "name": "stdout",
     "output_type": "stream",
     "text": [
      "the loss for test set is  297.959619257902\n"
     ]
    }
   ],
   "source": [
    "#denormalize returns and add to the starting period prices\n",
    "test_return=model2.predict(xtest)*trainstd+trainmean\n",
    "test_price=np.zeros([147,7])\n",
    "test_price[:,0]=teststarting_price+test_return[:,0]\n",
    "for i in range(6):\n",
    "    test_price[:,i+1]=test_price[:,i]+test_return[:,i+1]\n",
    "test_mae=np.mean(np.abs(test_price-testtrue_prices))\n",
    "print(\"the loss for test set is \", test_mae)"
   ]
  },
  {
   "cell_type": "markdown",
   "metadata": {},
   "source": [
    "##### 3 LSTM"
   ]
  },
  {
   "cell_type": "code",
   "execution_count": 48,
   "metadata": {},
   "outputs": [
    {
     "name": "stdout",
     "output_type": "stream",
     "text": [
      "the loss for test set is  297.90655024931664\n"
     ]
    }
   ],
   "source": [
    "test_return=model3.predict(xtest)*trainstd+trainmean\n",
    "test_price=np.zeros([147,7])\n",
    "test_price[:,0]=teststarting_price+test_return[:,0]\n",
    "for i in range(6):\n",
    "    test_price[:,i+1]=test_price[:,i]+test_return[:,i+1]\n",
    "test_mae=np.mean(np.abs(test_price-testtrue_prices))\n",
    "print(\"the loss for test set is \", test_mae)"
   ]
  },
  {
   "cell_type": "markdown",
   "metadata": {},
   "source": [
    "##### 4 GRU"
   ]
  },
  {
   "cell_type": "code",
   "execution_count": 53,
   "metadata": {},
   "outputs": [
    {
     "name": "stdout",
     "output_type": "stream",
     "text": [
      "the loss for test set is  308.8270014098087\n"
     ]
    }
   ],
   "source": [
    "test_return=model4.predict(xtest)*trainstd+trainmean\n",
    "test_price=np.zeros([147,7])\n",
    "test_price[:,0]=teststarting_price+test_return[:,0]\n",
    "for i in range(6):\n",
    "    test_price[:,i+1]=test_price[:,i]+test_return[:,i+1]\n",
    "test_mae=np.mean(np.abs(test_price-testtrue_prices))\n",
    "print(\"the loss for test set is \", test_mae)"
   ]
  },
  {
   "cell_type": "markdown",
   "metadata": {},
   "source": [
    "##### 5 GRU with recurrent dropout"
   ]
  },
  {
   "cell_type": "code",
   "execution_count": 50,
   "metadata": {},
   "outputs": [
    {
     "name": "stdout",
     "output_type": "stream",
     "text": [
      "the loss for test set is  296.53833299371775\n"
     ]
    }
   ],
   "source": [
    "test_return=model5.predict(xtest)*trainstd+trainmean\n",
    "test_price=np.zeros([147,7])\n",
    "test_price[:,0]=teststarting_price+test_return[:,0]\n",
    "for i in range(6):\n",
    "    test_price[:,i+1]=test_price[:,i]+test_return[:,i+1]\n",
    "test_mae=np.mean(np.abs(test_price-testtrue_prices))\n",
    "print(\"the loss for test set is \", test_mae)"
   ]
  },
  {
   "cell_type": "markdown",
   "metadata": {},
   "source": [
    "##### 6 Two layers of GRU"
   ]
  },
  {
   "cell_type": "code",
   "execution_count": 158,
   "metadata": {},
   "outputs": [
    {
     "name": "stdout",
     "output_type": "stream",
     "text": [
      "the loss for test set is  282.6592824453237\n"
     ]
    }
   ],
   "source": [
    "test_return=model6.predict(xtest)*trainstd+trainmean\n",
    "test_price=np.zeros([147,7])\n",
    "test_price[:,0]=teststarting_price+test_return[:,0]\n",
    "for i in range(6):\n",
    "    test_price[:,i+1]=test_price[:,i]+test_return[:,i+1]\n",
    "test_mae=np.mean(np.abs(test_price-testtrue_prices))\n",
    "print(\"the loss for test set is \", test_mae)"
   ]
  },
  {
   "cell_type": "markdown",
   "metadata": {},
   "source": [
    "##### The last model (2 layers GRU with dropout) performs best in the test set due to its regularization. It outperforms the best naiv model."
   ]
  },
  {
   "cell_type": "markdown",
   "metadata": {},
   "source": [
    "##### Part 5"
   ]
  },
  {
   "cell_type": "markdown",
   "metadata": {},
   "source": [
    "We assume 0.3% transaction costs, i.e. 0.6% transaction costs per round trade."
   ]
  },
  {
   "cell_type": "markdown",
   "metadata": {},
   "source": [
    "1. We trade whenever we expect the price to increase over 7 days. For instance, on day 0, our forecasts says that price will increase over 7 days. Our first day in test sample is 3288th day and first observation period ends on 3315th day. On day 3315, if we expect the price to increase over 3316-3322 period, we will long the BTC on 3315th day and short on 3322th day. If we expect on 3322th day that BTC will appreciate over the next 7 days, we will long again on 3322th day and short on 3329th day. The last observation day is 3455th day and the potential sale day would be 3462th day. These are overall 21 days to make a decision whether to buy in the test set."
   ]
  },
  {
   "cell_type": "markdown",
   "metadata": {},
   "source": [
    "2. Improved strategy: do not sell at the end of 7-day period, if accumulated forecasted return over the next 7 days is larger than 0.008, to spare transaction costs. Buy in only if the accumulated forecasted return over the next 7 days is larger than 0.008."
   ]
  },
  {
   "cell_type": "markdown",
   "metadata": {},
   "source": [
    "##### validation set"
   ]
  },
  {
   "cell_type": "code",
   "execution_count": 148,
   "metadata": {},
   "outputs": [
    {
     "name": "stdout",
     "output_type": "stream",
     "text": [
      "in the validation set, the naive strategy's totalreturn is  -0.5589964559886467\n",
      "in the validation set, the improved strategy's totalreturn is  0.07325957438214536\n"
     ]
    }
   ],
   "source": [
    "valid_return=model5.predict(xvalid)*trainstd+trainmean\n",
    "return_mat=np.sum(valid_return, axis=1)/validstarting_price\n",
    "return_vec=np.zeros(22)\n",
    "for i in range(22):\n",
    "    return_vec[i]=return_mat[7*i]\n",
    "totalreturn=1\n",
    "for i in range(22):\n",
    "    if return_vec[i]>0:\n",
    "        totalreturn *= 1+(validtrue_prices[7*i,6]-validtrue_prices[7*i,0])/validstarting_price[7*i]-0.008\n",
    "print(\"in the validation set, the naive strategy's totalreturn is \", totalreturn-1)\n",
    "totalreturn=1\n",
    "for i in range(22):\n",
    "    if return_vec[i]>0.008:\n",
    "        totalreturn *= 1+(validtrue_prices[7*i,6]-validtrue_prices[7*i,0])/validstarting_price[7*i]\n",
    "print(\"in the validation set, the improved strategy's totalreturn is \", totalreturn-0.024-1)"
   ]
  },
  {
   "cell_type": "code",
   "execution_count": 126,
   "metadata": {
    "scrolled": true
   },
   "outputs": [
    {
     "data": {
      "text/plain": [
       "(array([ 5,  7,  8, 20], dtype=int64),)"
      ]
     },
     "execution_count": 126,
     "metadata": {},
     "output_type": "execute_result"
    }
   ],
   "source": [
    "np.where(return_vec>0.008)"
   ]
  },
  {
   "cell_type": "markdown",
   "metadata": {},
   "source": [
    "Due to the uncertainty of the model, one invests only when the predicted accumulated returns are over 0.008, which happens in both 7th and 8th period, requiring only 1 round-trade. $0.008*3$ is the total transaction cost this strategy needs, as it trades 3 times. The strategy in the naiv method fails miserably due to the uncertainty of the model. Model 5 and Model 6 deliver similar results."
   ]
  },
  {
   "cell_type": "markdown",
   "metadata": {},
   "source": [
    "##### test set"
   ]
  },
  {
   "cell_type": "code",
   "execution_count": 161,
   "metadata": {},
   "outputs": [
    {
     "name": "stdout",
     "output_type": "stream",
     "text": [
      "the naive strategy's totalreturn is  2.4454746302413266\n"
     ]
    }
   ],
   "source": [
    "test_return=model5.predict(xtest)*trainstd+trainmean\n",
    "return_mat=np.sum(test_return, axis=1)/teststarting_price\n",
    "return_vec=np.zeros(21)\n",
    "for i in range(21):\n",
    "    return_vec[i]=return_mat[7*i]\n",
    "totalreturn=1\n",
    "for i in range(21):\n",
    "    if return_vec[i]>0:\n",
    "        totalreturn *= 1+(testtrue_prices[7*i,6]-testtrue_prices[7*i,0])/teststarting_price[7*i]-0.008\n",
    "print(\"the naive strategy's totalreturn is \", totalreturn)"
   ]
  },
  {
   "cell_type": "code",
   "execution_count": 162,
   "metadata": {},
   "outputs": [
    {
     "name": "stdout",
     "output_type": "stream",
     "text": [
      "the improved strategy's totalreturn is  2.4979265493773597\n"
     ]
    }
   ],
   "source": [
    "totalreturn=1\n",
    "for i in range(21):\n",
    "    if return_vec[i]>0.008:\n",
    "        totalreturn *= 1+(testtrue_prices[7*i,6]-testtrue_prices[7*i,0])/teststarting_price[7*i]\n",
    "\n",
    "print(\"the improved strategy's totalreturn is \", totalreturn-0.016)"
   ]
  },
  {
   "cell_type": "code",
   "execution_count": 129,
   "metadata": {},
   "outputs": [
    {
     "data": {
      "text/plain": [
       "(array([ 2,  3,  4,  5,  9, 10, 11, 12, 13, 14, 15, 16, 17, 18, 19, 20],\n",
       "       dtype=int64),)"
      ]
     },
     "execution_count": 129,
     "metadata": {},
     "output_type": "execute_result"
    }
   ],
   "source": [
    "np.where(return_vec>0.008)"
   ]
  },
  {
   "cell_type": "markdown",
   "metadata": {},
   "source": [
    "The predicted accumulated returns over 7 days appear in 2 pieces, thus one only needs to trade twice."
   ]
  },
  {
   "cell_type": "markdown",
   "metadata": {},
   "source": [
    "##### Holdout set"
   ]
  },
  {
   "cell_type": "code",
   "execution_count": 149,
   "metadata": {},
   "outputs": [
    {
     "name": "stdout",
     "output_type": "stream",
     "text": [
      "the naive strategy's totalreturn is  0.01750049884801963\n"
     ]
    }
   ],
   "source": [
    "holdout_return=model5.predict(xholdout)*trainstd+trainmean\n",
    "return_mat=np.sum(holdout_return, axis=1)/holdoutstarting_price\n",
    "return_vec=np.zeros(4)\n",
    "for i in range(4):\n",
    "    return_vec[i]=return_mat[7*i]\n",
    "totalreturn=1\n",
    "for i in range(4):\n",
    "    if return_vec[i]>0.00:\n",
    "        totalreturn *= 1+(holdouttrue_prices[7*i,6]-holdouttrue_prices[7*i,0])/holdoutstarting_price[7*i]-0.008\n",
    "print(\"the naive strategy's totalreturn is \", totalreturn-1)"
   ]
  },
  {
   "cell_type": "code",
   "execution_count": 156,
   "metadata": {},
   "outputs": [
    {
     "name": "stdout",
     "output_type": "stream",
     "text": [
      "the improved strategy's totalreturn is  0.04243958565468664\n"
     ]
    }
   ],
   "source": [
    "holdout_return=model5.predict(xholdout)*trainstd+trainmean\n",
    "return_mat=np.sum(holdout_return, axis=1)/holdoutstarting_price\n",
    "return_vec=np.zeros(4)\n",
    "for i in range(4):\n",
    "    return_vec[i]=return_mat[7*i]\n",
    "totalreturn=1\n",
    "for i in range(4):\n",
    "    if return_vec[i]>0.008:\n",
    "        totalreturn *= 1+(holdouttrue_prices[7*i,6]-holdouttrue_prices[7*i,0])/holdoutstarting_price[7*i]\n",
    "print(\"the improved strategy's totalreturn is \", totalreturn-0.008-1)"
   ]
  },
  {
   "cell_type": "code",
   "execution_count": 155,
   "metadata": {},
   "outputs": [
    {
     "data": {
      "text/plain": [
       "(array([0, 1, 2, 3], dtype=int64),)"
      ]
     },
     "execution_count": 155,
     "metadata": {},
     "output_type": "execute_result"
    }
   ],
   "source": [
    "np.where(return_vec>0.008)"
   ]
  },
  {
   "cell_type": "markdown",
   "metadata": {},
   "source": [
    "The predicted accumulated returns over 7 days appear in one piece. One only trade once. However, the model was not able to predict negative returns in 2 of those 4 periods."
   ]
  }
 ],
 "metadata": {
  "kernelspec": {
   "display_name": "Python 3",
   "language": "python",
   "name": "python3"
  },
  "language_info": {
   "codemirror_mode": {
    "name": "ipython",
    "version": 3
   },
   "file_extension": ".py",
   "mimetype": "text/x-python",
   "name": "python",
   "nbconvert_exporter": "python",
   "pygments_lexer": "ipython3",
   "version": "3.7.3"
  }
 },
 "nbformat": 4,
 "nbformat_minor": 2
}
